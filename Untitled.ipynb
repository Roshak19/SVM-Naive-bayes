{
 "cells": [
  {
   "cell_type": "markdown",
   "id": "473ccaa5-617e-422f-ad8f-06068e2f79c0",
   "metadata": {},
   "source": [
    "# Theoretical Portion"
   ]
  },
  {
   "cell_type": "code",
   "execution_count": 1,
   "id": "01630883-e3da-4aab-8301-6579a2ded341",
   "metadata": {},
   "outputs": [],
   "source": [
    "# Q1: What is a Support Vector Machine (SVM)\n",
    "# A1: SVM is a supervised learning algorithm used for classification and regression tasks. It works by finding the hyperplane that best separates different classes in a dataset. The goal of SVM is to maximize the margin between the closest points of different classes, called support vectors.\n"
   ]
  },
  {
   "cell_type": "code",
   "execution_count": 2,
   "id": "b3f91614-dc70-4fbd-886f-79ace88be561",
   "metadata": {},
   "outputs": [],
   "source": [
    "# Q2: What is the difference between Hard Margin and Soft Margin SVM\n",
    "# A2: Hard Margin SVM requires data to be perfectly separable with no misclassifications. Soft Margin SVM allows some misclassifications by introducing a slack variable to handle noise. Soft Margin SVM is more practical as real-world data is often not perfectly separable.\n"
   ]
  },
  {
   "cell_type": "code",
   "execution_count": 3,
   "id": "4920bd06-9281-4cbe-905a-7605a19fd641",
   "metadata": {},
   "outputs": [],
   "source": [
    "# Q3: What is the mathematical intuition behind SVM\n",
    "# A3: SVM aims to maximize the margin between classes while minimizing classification errors. It uses an optimization problem where the objective is to maximize the distance between the nearest support vectors. The mathematical formulation involves solving a quadratic programming problem."
   ]
  },
  {
   "cell_type": "code",
   "execution_count": 4,
   "id": "dcbe7a6a-6a8f-45f2-98b8-8a45fe4d26fb",
   "metadata": {},
   "outputs": [],
   "source": [
    "# Q4: What is the role of Lagrange Multipliers in SVM\n",
    "# A4: Lagrange Multipliers help in transforming the constrained optimization problem into an unconstrained one. They allow the SVM problem to be solved using the Lagrangian dual formulation. This approach makes it easier to handle high-dimensional data efficiently."
   ]
  },
  {
   "cell_type": "code",
   "execution_count": 5,
   "id": "c3d089d1-801c-4b7b-993e-9271f6e3b6e1",
   "metadata": {},
   "outputs": [],
   "source": [
    "# Q5: What are Support Vectors in SVM\n",
    "# A5: Support vectors are the data points that lie closest to the hyperplane and influence its position. They define the margin and play a crucial role in determining the optimal decision boundary."
   ]
  },
  {
   "cell_type": "code",
   "execution_count": 6,
   "id": "8f956a99-44d1-4a90-a9c0-15afc4f1ad8e",
   "metadata": {},
   "outputs": [],
   "source": [
    "\n",
    "# Q6: What is a Support Vector Classifier (SVC)\n",
    "# A6: SVC is an implementation of SVM used for classification tasks. It finds the optimal hyperplane that maximizes the margin between different classes."
   ]
  },
  {
   "cell_type": "code",
   "execution_count": 7,
   "id": "31941aff-f4bc-45c9-b791-bd01bccbadc5",
   "metadata": {},
   "outputs": [],
   "source": [
    "# Q7: What is a Support Vector Regressor (SVR)\n",
    "# A7: SVR is a regression-based version of SVM. Instead of maximizing the margin for classification, it tries to fit a function within a certain threshold while minimizing errors."
   ]
  },
  {
   "cell_type": "code",
   "execution_count": 8,
   "id": "d629b3d6-bfab-4f3b-9b2f-8245ba441605",
   "metadata": {},
   "outputs": [],
   "source": [
    "\n",
    "# Q8: What is the Kernel Trick in SVM\n",
    "# A8: The kernel trick allows SVM to map data into higher-dimensional spaces without explicitly computing transformations. This helps SVM handle non-linearly separable data efficiently."
   ]
  },
  {
   "cell_type": "code",
   "execution_count": 9,
   "id": "5d4b9ce5-78ad-413a-a4f8-4b0d2abbb65a",
   "metadata": {},
   "outputs": [],
   "source": [
    "# Q9: Compare Linear Kernel, Polynomial Kernel, and RBF Kernel\n",
    "# A9: Linear Kernel: Used when data is linearly separable.\n",
    "# Polynomial Kernel: Captures polynomial relationships but requires tuning.\n",
    "# RBF Kernel: Handles complex decision boundaries using the Gaussian function."
   ]
  },
  {
   "cell_type": "code",
   "execution_count": 10,
   "id": "7d44a9c2-38bb-44d1-ba24-001b7bec0149",
   "metadata": {},
   "outputs": [],
   "source": [
    "# Q10: What is the effect of the C parameter in SVM\n",
    "# A10: The C parameter controls the trade-off between maximizing the margin and minimizing classification errors. A higher C prioritizes minimizing errors, while a lower C allows a larger margin with some misclassifications."
   ]
  },
  {
   "cell_type": "code",
   "execution_count": 11,
   "id": "e3e3e52e-16a2-40a4-a384-e6e8c3716486",
   "metadata": {},
   "outputs": [],
   "source": [
    "# Q11: What is the role of the Gamma parameter in RBF Kernel SVM\n",
    "# A11: Gamma defines the influence of a single training example on the decision boundary. A high gamma means closer points affect the decision boundary more, leading to overfitting. A low gamma results in a smoother decision boundary."
   ]
  },
  {
   "cell_type": "code",
   "execution_count": 12,
   "id": "33acab61-c362-44ee-8ac4-4e6a49d4011b",
   "metadata": {},
   "outputs": [],
   "source": [
    "# Q12: What is the Naïve Bayes classifier, and why is it called \"Naïve\"\n",
    "# A12: Naïve Bayes is a probabilistic classifier based on Bayes' Theorem. It assumes independence between features, which is often not true, hence the term \"naïve.\""
   ]
  },
  {
   "cell_type": "code",
   "execution_count": 13,
   "id": "be38bb39-9e4c-4ecb-b188-8896a57de771",
   "metadata": {},
   "outputs": [],
   "source": [
    "# Q13: What is Bayes’ Theorem\n",
    "# A13: Bayes' Theorem describes the probability of an event based on prior knowledge of conditions related to that event.\n",
    "       #Formula: P(A|B) = (P(B|A) * P(A)) / P(B)"
   ]
  },
  {
   "cell_type": "code",
   "execution_count": 14,
   "id": "51ea3878-b2bd-4eb1-a5c0-a87229fdfbe2",
   "metadata": {},
   "outputs": [],
   "source": [
    "# Q14: Explain the differences between Gaussian Naïve Bayes, Multinomial Naïve Bayes, and Bernoulli Naïve Bayes\n",
    "# A14: Gaussian Naïve Bayes: Assumes continuous values follow a Gaussian distribution.\n",
    "       #Multinomial Naïve Bayes: Used for text classification, assuming word frequencies follow a multinomial distribution.\n",
    "       #Bernoulli Naïve Bayes: Used for binary feature data (e.g., word presence/absence)."
   ]
  },
  {
   "cell_type": "code",
   "execution_count": 15,
   "id": "95960d01-63c4-4533-aa18-3e417478689d",
   "metadata": {},
   "outputs": [],
   "source": [
    "# Q15: When should you use Gaussian Naïve Bayes over other variants\n",
    "# A15: Gaussian Naïve Bayes is best for continuous numerical features that follow a normal distribution."
   ]
  },
  {
   "cell_type": "code",
   "execution_count": 16,
   "id": "ef197765-a722-4f4f-bc4f-c0a140387487",
   "metadata": {},
   "outputs": [],
   "source": [
    "# Q16: What are the key assumptions made by Naïve Bayes\n",
    "# A16: Features are independent of each other.\n",
    "       # All features contribute equally to the outcome.\n",
    "       # Prior probabilities can be estimated from data."
   ]
  },
  {
   "cell_type": "code",
   "execution_count": 17,
   "id": "ea39cc1d-474c-495c-896d-da54b042a59d",
   "metadata": {},
   "outputs": [],
   "source": [
    "# Q17: What are the advantages and disadvantages of Naïve Bayes\n",
    "# A17: Advantages:\n",
    "    # Fast and efficient for large datasets.\n",
    "    # Works well with small data.\n",
    "    # Performs well for text classification.\n",
    "    # Disadvantages:\n",
    "    # Assumption of feature independence is often unrealistic.\n",
    "    # Struggles with highly correlated features.\n"
   ]
  },
  {
   "cell_type": "code",
   "execution_count": 18,
   "id": "3624379c-6de0-4845-a578-af7ad2adedc2",
   "metadata": {},
   "outputs": [],
   "source": [
    "# Q18: Why is Naïve Bayes a good choice for text classification\n",
    "# A18: Naïve Bayes works well for text classification because it assumes independence between words, making probability calculations simple and fast."
   ]
  },
  {
   "cell_type": "code",
   "execution_count": 19,
   "id": "a555fb0b-b193-4368-93b7-accc81142086",
   "metadata": {},
   "outputs": [],
   "source": [
    "# Q19: Compare SVM and Naïve Bayes for classification tasks\n",
    "# A19: SVM works well for complex decision boundaries but is computationally expensive.\n",
    "    # Naïve Bayes is faster but relies on strong independence assumptions, making it less effective when features are correlated."
   ]
  },
  {
   "cell_type": "code",
   "execution_count": 20,
   "id": "e5906f19-db0d-4f42-96a2-23e2f3d68e57",
   "metadata": {},
   "outputs": [],
   "source": [
    "# Q20: How does Laplace Smoothing help in Naïve Bayes\n",
    "# A20: Laplace Smoothing prevents zero probabilities in Naïve Bayes by adding a small constant to all probabilities. This ensures unseen words in the test data do not lead to zero probability issues.\n"
   ]
  },
  {
   "cell_type": "markdown",
   "id": "240d13c7-ceb6-4af2-a33e-6268e9103f74",
   "metadata": {},
   "source": [
    "# Practical"
   ]
  },
  {
   "cell_type": "code",
   "execution_count": 21,
   "id": "a1bdd784-5d18-42bc-927e-b72a2ebf60c6",
   "metadata": {},
   "outputs": [],
   "source": [
    "#Q21 Write a Python program to train an SVM Classifier on the Iris dataset and evaluate accuracy"
   ]
  },
  {
   "cell_type": "code",
   "execution_count": 22,
   "id": "c19cf998-b7ab-4e0c-9379-809bced3629a",
   "metadata": {},
   "outputs": [
    {
     "name": "stdout",
     "output_type": "stream",
     "text": [
      "Accuracy: 0.98\n"
     ]
    }
   ],
   "source": [
    "from sklearn import datasets\n",
    "from sklearn.model_selection import train_test_split\n",
    "from sklearn.preprocessing import StandardScaler\n",
    "from sklearn.svm import SVC\n",
    "from sklearn.metrics import accuracy_score\n",
    "\n",
    "# Load the Iris dataset\n",
    "iris = datasets.load_iris()\n",
    "X = iris.data\n",
    "y = iris.target\n",
    "\n",
    "# Split the data into training and testing sets\n",
    "X_train, X_test, y_train, y_test = train_test_split(X, y, test_size=0.3, random_state=42)\n",
    "\n",
    "# Standardize the features\n",
    "scaler = StandardScaler()\n",
    "X_train = scaler.fit_transform(X_train)\n",
    "X_test = scaler.transform(X_test)\n",
    "\n",
    "# Create an SVM classifier with a linear kernel\n",
    "svm_clf = SVC(kernel='linear', random_state=42)\n",
    "\n",
    "# Train the classifier\n",
    "svm_clf.fit(X_train, y_train)\n",
    "\n",
    "# Make predictions\n",
    "y_pred = svm_clf.predict(X_test)\n",
    "\n",
    "# Evaluate the accuracy\n",
    "accuracy = accuracy_score(y_test, y_pred)\n",
    "print(f'Accuracy: {accuracy:.2f}')\n"
   ]
  },
  {
   "cell_type": "code",
   "execution_count": 23,
   "id": "0c788704-c075-4f23-a7d3-b4cf5eb5bb84",
   "metadata": {},
   "outputs": [],
   "source": [
    "#Q22 Write a Python program to train two SVM classifiers with Linear and RBF kernels on the Wine dataset, then compare their accuracies"
   ]
  },
  {
   "cell_type": "code",
   "execution_count": 24,
   "id": "e3e2dcf8-18a4-402a-a641-6f35d20688bd",
   "metadata": {},
   "outputs": [
    {
     "name": "stdout",
     "output_type": "stream",
     "text": [
      "Accuracy of SVM with linear kernel: 0.98\n",
      "Accuracy of SVM with RBF kernel: 0.98\n"
     ]
    }
   ],
   "source": [
    "\n",
    "# Load the Wine dataset\n",
    "wine = datasets.load_wine()\n",
    "X = wine.data\n",
    "y = wine.target\n",
    "\n",
    "# Split the data into training and testing sets\n",
    "X_train, X_test, y_train, y_test = train_test_split(X, y, test_size=0.3, random_state=42)\n",
    "\n",
    "# Standardize the features\n",
    "scaler = StandardScaler()\n",
    "X_train = scaler.fit_transform(X_train)\n",
    "X_test = scaler.transform(X_test)\n",
    "\n",
    "# Create SVM classifiers with linear and RBF kernels\n",
    "svm_linear = SVC(kernel='linear', random_state=42)\n",
    "svm_rbf = SVC(kernel='rbf', random_state=42)\n",
    "\n",
    "# Train the classifiers\n",
    "svm_linear.fit(X_train, y_train)\n",
    "svm_rbf.fit(X_train, y_train)\n",
    "\n",
    "# Make predictions\n",
    "y_pred_linear = svm_linear.predict(X_test)\n",
    "y_pred_rbf = svm_rbf.predict(X_test)\n",
    "\n",
    "# Evaluate the accuracies\n",
    "accuracy_linear = accuracy_score(y_test, y_pred_linear)\n",
    "accuracy_rbf = accuracy_score(y_test, y_pred_rbf)\n",
    "\n",
    "print(f'Accuracy of SVM with linear kernel: {accuracy_linear:.2f}')\n",
    "print(f'Accuracy of SVM with RBF kernel: {accuracy_rbf:.2f}')\n"
   ]
  },
  {
   "cell_type": "code",
   "execution_count": 25,
   "id": "0352330d-b25c-4732-8ec1-e9e1ea2488e4",
   "metadata": {},
   "outputs": [],
   "source": [
    "#Q23  Write a Python program to train an SVM Regressor (SVR) on a housing dataset and evaluate it using Mean Squared Error (MSE)"
   ]
  },
  {
   "cell_type": "code",
   "execution_count": 26,
   "id": "cb295ec4-6423-4987-b34e-d21c1c81e715",
   "metadata": {},
   "outputs": [
    {
     "name": "stdout",
     "output_type": "stream",
     "text": [
      "Mean Squared Error: 0.35\n"
     ]
    }
   ],
   "source": [
    "from sklearn.datasets import fetch_california_housing\n",
    "from sklearn.model_selection import train_test_split\n",
    "from sklearn.preprocessing import StandardScaler\n",
    "from sklearn.svm import SVR\n",
    "from sklearn.metrics import mean_squared_error\n",
    "\n",
    "# Load the California Housing dataset\n",
    "california = fetch_california_housing()\n",
    "X = california.data\n",
    "y = california.target\n",
    "\n",
    "# Split the data into training and testing sets\n",
    "X_train, X_test, y_train, y_test = train_test_split(X, y, test_size=0.3, random_state=42)\n",
    "\n",
    "# Standardize the features\n",
    "scaler = StandardScaler()\n",
    "X_train = scaler.fit_transform(X_train)\n",
    "X_test = scaler.transform(X_test)\n",
    "\n",
    "# Create an SVR model with RBF kernel\n",
    "svr = SVR(kernel='rbf', C=1.0, epsilon=0.2)\n",
    "\n",
    "# Train the model\n",
    "svr.fit(X_train, y_train)\n",
    "\n",
    "# Make predictions\n",
    "y_pred = svr.predict(X_test)\n",
    "\n",
    "# Evaluate the model using Mean Squared Error (MSE)\n",
    "mse = mean_squared_error(y_test, y_pred)\n",
    "print(f'Mean Squared Error: {mse:.2f}')\n"
   ]
  },
  {
   "cell_type": "code",
   "execution_count": 27,
   "id": "354c1645-2fc4-43c6-a4c7-bd2fea5a8d3b",
   "metadata": {},
   "outputs": [],
   "source": [
    "#Q24  Write a Python program to train an SVM Classifier with a Polynomial Kernel and visualize the decision boundary"
   ]
  },
  {
   "cell_type": "code",
   "execution_count": 28,
   "id": "c4a71a94-6589-4f37-8356-f22dac2ebaa4",
   "metadata": {},
   "outputs": [
    {
     "data": {
      "image/png": "[encoded data removed]",
      "text/plain": [
       "<Figure size 640x480 with 1 Axes>"
      ]
     },
     "metadata": {},
     "output_type": "display_data"
    }
   ],
   "source": [
    "import numpy as np\n",
    "import matplotlib.pyplot as plt\n",
    "from sklearn import datasets\n",
    "from sklearn.model_selection import train_test_split\n",
    "from sklearn.preprocessing import StandardScaler\n",
    "from sklearn.svm import SVC\n",
    "\n",
    "# Load the Iris dataset\n",
    "iris = datasets.load_iris()\n",
    "X = iris.data[:, :2]  # Use only the first two features for visualization\n",
    "y = iris.target\n",
    "\n",
    "# Split the data into training and testing sets\n",
    "X_train, X_test, y_train, y_test = train_test_split(X, y, test_size=0.3, random_state=42)\n",
    "\n",
    "# Standardize the features\n",
    "scaler = StandardScaler()\n",
    "X_train = scaler.fit_transform(X_train)\n",
    "X_test = scaler.transform(X_test)\n",
    "\n",
    "# Create an SVM classifier with a polynomial kernel\n",
    "svm_clf = SVC(kernel='poly', degree=3, C=1.0, random_state=42)\n",
    "\n",
    "# Train the classifier\n",
    "svm_clf.fit(X_train, y_train)\n",
    "\n",
    "# Function to plot decision boundaries\n",
    "def plot_decision_boundary(clf, X, y):\n",
    "    x_min, x_max = X[:, 0].min() - 1, X[:, 0].max() + 1\n",
    "    y_min, y_max = X[:, 1].min() - 1, X[:, 1].max() + 1\n",
    "    xx, yy = np.meshgrid(np.arange(x_min, x_max, 0.01), np.arange(y_min, y_max, 0.01))\n",
    "    Z = clf.predict(np.c_[xx.ravel(), yy.ravel()])\n",
    "    Z = Z.reshape(xx.shape)\n",
    "    plt.contourf(xx, yy, Z, alpha=0.8, cmap=plt.cm.Paired)\n",
    "    plt.scatter(X[:, 0], X[:, 1], c=y, edgecolors='k', marker='o', cmap=plt.cm.Paired)\n",
    "    plt.xlabel('Feature 1')\n",
    "    plt.ylabel('Feature 2')\n",
    "    plt.title('SVM Decision Boundary with Polynomial Kernel')\n",
    "    plt.show()\n",
    "\n",
    "# Visualize the decision boundary\n",
    "plot_decision_boundary(svm_clf, X_test, y_test)\n"
   ]
  },
  {
   "cell_type": "code",
   "execution_count": 29,
   "id": "a283c69f-f97f-430f-adf2-c540522c86c0",
   "metadata": {},
   "outputs": [],
   "source": [
    "#Q25 Write a Python program to train a Gaussian Naïve Bayes classifier on the Breast Cancer dataset and evaluate accuracy"
   ]
  },
  {
   "cell_type": "code",
   "execution_count": 30,
   "id": "25d5370f-12ff-491f-91b2-d9b431e333b9",
   "metadata": {},
   "outputs": [
    {
     "name": "stdout",
     "output_type": "stream",
     "text": [
      "Accuracy: 0.94\n"
     ]
    }
   ],
   "source": [
    "\n",
    "from sklearn.naive_bayes import GaussianNB\n",
    "from sklearn.metrics import accuracy_score\n",
    "\n",
    "# Load the Breast Cancer dataset\n",
    "cancer = datasets.load_breast_cancer()\n",
    "X = cancer.data\n",
    "y = cancer.target\n",
    "\n",
    "# Split the data into training and testing sets\n",
    "X_train, X_test, y_train, y_test = train_test_split(X, y, test_size=0.3, random_state=42)\n",
    "\n",
    "# Standardize the features\n",
    "scaler = StandardScaler()\n",
    "X_train = scaler.fit_transform(X_train)\n",
    "X_test = scaler.transform(X_test)\n",
    "\n",
    "# Create a Gaussian Naïve Bayes classifier\n",
    "gnb = GaussianNB()\n",
    "\n",
    "# Train the classifier\n",
    "gnb.fit(X_train, y_train)\n",
    "\n",
    "# Make predictions\n",
    "y_pred = gnb.predict(X_test)\n",
    "\n",
    "# Evaluate the accuracy\n",
    "accuracy = accuracy_score(y_test, y_pred)\n",
    "print(f'Accuracy: {accuracy:.2f}')\n"
   ]
  },
  {
   "cell_type": "code",
   "execution_count": 31,
   "id": "49c31f5e-ef5d-423c-8a42-564a7870d819",
   "metadata": {},
   "outputs": [],
   "source": [
    "#Q26 Write a Python program to train a Multinomial Naïve Bayes classifier for text classification using the 20 Newsgroups dataset."
   ]
  },
  {
   "cell_type": "code",
   "execution_count": 32,
   "id": "8199b7d8-5376-47c5-955e-25c548710e8c",
   "metadata": {},
   "outputs": [
    {
     "name": "stdout",
     "output_type": "stream",
     "text": [
      "Accuracy: 0.85\n"
     ]
    }
   ],
   "source": [
    "from sklearn.datasets import fetch_20newsgroups\n",
    "from sklearn.feature_extraction.text import CountVectorizer\n",
    "from sklearn.model_selection import train_test_split\n",
    "from sklearn.naive_bayes import MultinomialNB\n",
    "from sklearn.metrics import accuracy_score\n",
    "\n",
    "# Load the 20 Newsgroups dataset\n",
    "newsgroups = fetch_20newsgroups(subset='all', categories=None, shuffle=True, random_state=42)\n",
    "X = newsgroups.data\n",
    "y = newsgroups.target\n",
    "\n",
    "# Split the data into training and testing sets\n",
    "X_train, X_test, y_train, y_test = train_test_split(X, y, test_size=0.3, random_state=42)\n",
    "\n",
    "# Convert the text data to numerical data using CountVectorizer\n",
    "vectorizer = CountVectorizer()\n",
    "X_train_counts = vectorizer.fit_transform(X_train)\n",
    "X_test_counts = vectorizer.transform(X_test)\n",
    "\n",
    "# Create a Multinomial Naïve Bayes classifier\n",
    "mnb = MultinomialNB()\n",
    "\n",
    "# Train the classifier\n",
    "mnb.fit(X_train_counts, y_train)\n",
    "\n",
    "# Make predictions\n",
    "y_pred = mnb.predict(X_test_counts)\n",
    "\n",
    "# Evaluate the accuracy\n",
    "accuracy = accuracy_score(y_test, y_pred)\n",
    "print(f'Accuracy: {accuracy:.2f}')\n"
   ]
  },
  {
   "cell_type": "code",
   "execution_count": 33,
   "id": "ad673106-80b6-4ed6-a7f3-7d2ba5c2eced",
   "metadata": {},
   "outputs": [],
   "source": [
    "#Q27 Write a Python program to train an SVM Classifier with different C values and compare the decision boundaries visually"
   ]
  },
  {
   "cell_type": "code",
   "execution_count": 34,
   "id": "8b516dc9-d8f9-4686-890f-169c660efd63",
   "metadata": {},
   "outputs": [
    {
     "data": {
      "image/png": "[encoded data removed]",
      "text/plain": [
       "<Figure size 2000x500 with 4 Axes>"
      ]
     },
     "metadata": {},
     "output_type": "display_data"
    }
   ],
   "source": [
    "import numpy as np\n",
    "import matplotlib.pyplot as plt\n",
    "from sklearn import datasets\n",
    "from sklearn.svm import SVC\n",
    "from sklearn.model_selection import train_test_split\n",
    "from matplotlib.colors import ListedColormap\n",
    "\n",
    "# Load the iris dataset\n",
    "iris = datasets.load_iris()\n",
    "X = iris.data[:, :2]  # Using only the first two features for visualization purposes\n",
    "y = iris.target\n",
    "\n",
    "# Split the data into training and testing sets\n",
    "X_train, X_test, y_train, y_test = train_test_split(X, y, test_size=0.3, random_state=42)\n",
    "\n",
    "# Create a function to plot the decision boundaries\n",
    "def plot_decision_boundaries(X, y, classifier, ax, title):\n",
    "    cmap_light = ListedColormap(['#FFAAAA', '#AAFFAA', '#AAAAFF'])\n",
    "    cmap_bold = ['#FF0000', '#00FF00', '#0000FF']\n",
    "    \n",
    "    x_min, x_max = X[:, 0].min() - 1, X[:, 0].max() + 1\n",
    "    y_min, y_max = X[:, 1].min() - 1, X[:, 1].max() + 1\n",
    "    xx, yy = np.meshgrid(np.arange(x_min, x_max, 0.01), np.arange(y_min, y_max, 0.01))\n",
    "    \n",
    "    Z = classifier.predict(np.c_[xx.ravel(), yy.ravel()])\n",
    "    Z = Z.reshape(xx.shape)\n",
    "    \n",
    "    ax.contourf(xx, yy, Z, alpha=0.3, cmap=cmap_light)\n",
    "    ax.scatter(X[:, 0], X[:, 1], c=y, edgecolor='k', s=20, cmap=ListedColormap(cmap_bold))\n",
    "    ax.set_title(title)\n",
    "\n",
    "# Train SVM classifiers with different C values and visualize decision boundaries\n",
    "C_values = [0.1, 1, 10, 100]\n",
    "fig, axes = plt.subplots(1, len(C_values), figsize=(20, 5))\n",
    "\n",
    "for i, C in enumerate(C_values):\n",
    "    svm = SVC(kernel='linear', C=C)\n",
    "    svm.fit(X_train, y_train)\n",
    "    plot_decision_boundaries(X_train, y_train, svm, axes[i], f'SVM with C={C}')\n",
    "\n",
    "plt.show()\n"
   ]
  },
  {
   "cell_type": "code",
   "execution_count": 35,
   "id": "732f9105-06ee-4da8-a9f2-4661060c3c5a",
   "metadata": {},
   "outputs": [],
   "source": [
    "#Q28 Write a Python program to train a Bernoulli Naïve Bayes classifier for binary classification on a dataset with binary features"
   ]
  },
  {
   "cell_type": "code",
   "execution_count": 36,
   "id": "e211b159-b72f-4a47-9c14-6f6dea6b711f",
   "metadata": {},
   "outputs": [
    {
     "name": "stdout",
     "output_type": "stream",
     "text": [
      "Accuracy: 0.86\n"
     ]
    }
   ],
   "source": [
    "import numpy as np\n",
    "from sklearn.datasets import make_classification\n",
    "from sklearn.model_selection import train_test_split\n",
    "from sklearn.naive_bayes import BernoulliNB\n",
    "from sklearn.metrics import accuracy_score\n",
    "\n",
    "# Create a synthetic binary dataset with binary features\n",
    "X, y = make_classification(n_samples=1000, n_features=20, n_informative=2, n_redundant=0, n_classes=2, random_state=42)\n",
    "X = (X > 0).astype(int)  # Convert features to binary (0 or 1)\n",
    "\n",
    "# Split the dataset into training and testing sets\n",
    "X_train, X_test, y_train, y_test = train_test_split(X, y, test_size=0.3, random_state=42)\n",
    "\n",
    "# Initialize and train a Bernoulli Naïve Bayes classifier\n",
    "bnb = BernoulliNB()\n",
    "bnb.fit(X_train, y_train)\n",
    "\n",
    "# Make predictions on the test set\n",
    "y_pred = bnb.predict(X_test)\n",
    "\n",
    "# Evaluate the classifier's performance\n",
    "accuracy = accuracy_score(y_test, y_pred)\n",
    "print(f'Accuracy: {accuracy:.2f}')\n"
   ]
  },
  {
   "cell_type": "code",
   "execution_count": 37,
   "id": "b65db3c2-d138-40af-94e6-365e27bbfc3c",
   "metadata": {},
   "outputs": [],
   "source": [
    "#Q29  Write a Python program to apply feature scaling before training an SVM model and compare results with unscaled data"
   ]
  },
  {
   "cell_type": "code",
   "execution_count": 38,
   "id": "e3e9b3a3-b440-4f37-9093-434b1a895e68",
   "metadata": {},
   "outputs": [
    {
     "name": "stdout",
     "output_type": "stream",
     "text": [
      "Accuracy without feature scaling: 1.00\n",
      "Accuracy with feature scaling: 0.98\n"
     ]
    }
   ],
   "source": [
    "import numpy as np\n",
    "from sklearn import datasets\n",
    "from sklearn.svm import SVC\n",
    "from sklearn.model_selection import train_test_split\n",
    "from sklearn.preprocessing import StandardScaler\n",
    "from sklearn.metrics import accuracy_score\n",
    "\n",
    "# Load the Iris dataset\n",
    "iris = datasets.load_iris()\n",
    "X = iris.data\n",
    "y = iris.target\n",
    "\n",
    "# Split the dataset into training and testing sets\n",
    "X_train, X_test, y_train, y_test = train_test_split(X, y, test_size=0.3, random_state=42)\n",
    "\n",
    "# Train an SVM classifier without feature scaling\n",
    "svm_unscaled = SVC(kernel='linear', random_state=42)\n",
    "svm_unscaled.fit(X_train, y_train)\n",
    "y_pred_unscaled = svm_unscaled.predict(X_test)\n",
    "accuracy_unscaled = accuracy_score(y_test, y_pred_unscaled)\n",
    "print(f'Accuracy without feature scaling: {accuracy_unscaled:.2f}')\n",
    "\n",
    "# Apply feature scaling\n",
    "scaler = StandardScaler()\n",
    "X_train_scaled = scaler.fit_transform(X_train)\n",
    "X_test_scaled = scaler.transform(X_test)\n",
    "\n",
    "# Train an SVM classifier with feature scaling\n",
    "svm_scaled = SVC(kernel='linear', random_state=42)\n",
    "svm_scaled.fit(X_train_scaled, y_train)\n",
    "y_pred_scaled = svm_scaled.predict(X_test_scaled)\n",
    "accuracy_scaled = accuracy_score(y_test, y_pred_scaled)\n",
    "print(f'Accuracy with feature scaling: {accuracy_scaled:.2f}')\n"
   ]
  },
  {
   "cell_type": "code",
   "execution_count": 39,
   "id": "dcc87b93-914e-4c56-8ab4-40d68916ef13",
   "metadata": {},
   "outputs": [],
   "source": [
    "#Q30  Write a Python program to train a Gaussian Naïve Bayes model and compare the predictions before and after Laplace Smoothing"
   ]
  },
  {
   "cell_type": "code",
   "execution_count": 40,
   "id": "76238807-4466-4306-9dae-b4d5b474f1cc",
   "metadata": {},
   "outputs": [
    {
     "name": "stdout",
     "output_type": "stream",
     "text": [
      "Accuracy without Laplace Smoothing: 0.84\n",
      "Accuracy with Laplace Smoothing: 0.84\n",
      "\n",
      "Predictions without Laplace Smoothing:\n",
      "[1 1 1 1 0 0 1 1 0 1 1 0 0 1 0 0 1 0 0 1]\n",
      "\n",
      "Predictions with Laplace Smoothing:\n",
      "[1 1 1 1 0 0 1 1 0 1 1 0 0 1 0 0 1 0 0 1]\n"
     ]
    }
   ],
   "source": [
    "import numpy as np\n",
    "from sklearn.datasets import make_classification\n",
    "from sklearn.model_selection import train_test_split\n",
    "from sklearn.naive_bayes import GaussianNB\n",
    "from sklearn.metrics import accuracy_score\n",
    "\n",
    "# Create a synthetic dataset\n",
    "X, y = make_classification(n_samples=1000, n_features=20, n_informative=2, n_redundant=0, n_classes=2, random_state=42)\n",
    "\n",
    "# Split the dataset into training and testing sets\n",
    "X_train, X_test, y_train, y_test = train_test_split(X, y, test_size=0.3, random_state=42)\n",
    "\n",
    "# Initialize and train a Gaussian Naïve Bayes classifier without Laplace Smoothing\n",
    "gnb = GaussianNB(var_smoothing=0)\n",
    "gnb.fit(X_train, y_train)\n",
    "y_pred_no_smoothing = gnb.predict(X_test)\n",
    "\n",
    "# Calculate the accuracy without Laplace Smoothing\n",
    "accuracy_no_smoothing = accuracy_score(y_test, y_pred_no_smoothing)\n",
    "print(f'Accuracy without Laplace Smoothing: {accuracy_no_smoothing:.2f}')\n",
    "\n",
    "# Initialize and train a Gaussian Naïve Bayes classifier with Laplace Smoothing\n",
    "gnb_smooth = GaussianNB(var_smoothing=1e-9)\n",
    "gnb_smooth.fit(X_train, y_train)\n",
    "y_pred_smoothing = gnb_smooth.predict(X_test)\n",
    "\n",
    "# Calculate the accuracy with Laplace Smoothing\n",
    "accuracy_smoothing = accuracy_score(y_test, y_pred_smoothing)\n",
    "print(f'Accuracy with Laplace Smoothing: {accuracy_smoothing:.2f}')\n",
    "\n",
    "# Compare predictions before and after Laplace Smoothing\n",
    "print(\"\\nPredictions without Laplace Smoothing:\")\n",
    "print(y_pred_no_smoothing[:20])\n",
    "print(\"\\nPredictions with Laplace Smoothing:\")\n",
    "print(y_pred_smoothing[:20])\n"
   ]
  },
  {
   "cell_type": "code",
   "execution_count": 41,
   "id": "e52517bc-9738-4c80-8f80-c2583673bba7",
   "metadata": {},
   "outputs": [],
   "source": [
    "#Q31 Write a Python program to train an SVM Classifier and use GridSearchCV to tune the hyperparameters (C, gamma, kernel)"
   ]
  },
  {
   "cell_type": "code",
   "execution_count": 42,
   "id": "51991dbe-3c94-4e4b-ad9f-1928d705c8b1",
   "metadata": {},
   "outputs": [
    {
     "name": "stdout",
     "output_type": "stream",
     "text": [
      "Fitting 5 folds for each of 48 candidates, totalling 240 fits\n",
      "[CV] END ......................C=0.1, gamma=1, kernel=linear; total time=   0.0s\n",
      "[CV] END ......................C=0.1, gamma=1, kernel=linear; total time=   0.0s\n",
      "[CV] END ......................C=0.1, gamma=1, kernel=linear; total time=   0.0s\n",
      "[CV] END ......................C=0.1, gamma=1, kernel=linear; total time=   0.0s\n",
      "[CV] END ......................C=0.1, gamma=1, kernel=linear; total time=   0.0s\n",
      "[CV] END ........................C=0.1, gamma=1, kernel=poly; total time=   0.0s\n",
      "[CV] END ........................C=0.1, gamma=1, kernel=poly; total time=   0.0s\n",
      "[CV] END ........................C=0.1, gamma=1, kernel=poly; total time=   0.0s\n",
      "[CV] END ........................C=0.1, gamma=1, kernel=poly; total time=   0.0s\n",
      "[CV] END ........................C=0.1, gamma=1, kernel=poly; total time=   0.0s\n",
      "[CV] END .........................C=0.1, gamma=1, kernel=rbf; total time=   0.0s\n",
      "[CV] END .........................C=0.1, gamma=1, kernel=rbf; total time=   0.0s\n",
      "[CV] END .........................C=0.1, gamma=1, kernel=rbf; total time=   0.0s\n",
      "[CV] END .........................C=0.1, gamma=1, kernel=rbf; total time=   0.0s\n",
      "[CV] END .........................C=0.1, gamma=1, kernel=rbf; total time=   0.0s\n",
      "[CV] END ....................C=0.1, gamma=0.1, kernel=linear; total time=   0.0s\n",
      "[CV] END ....................C=0.1, gamma=0.1, kernel=linear; total time=   0.0s\n",
      "[CV] END ....................C=0.1, gamma=0.1, kernel=linear; total time=   0.0s\n",
      "[CV] END ....................C=0.1, gamma=0.1, kernel=linear; total time=   0.0s\n",
      "[CV] END ....................C=0.1, gamma=0.1, kernel=linear; total time=   0.0s\n",
      "[CV] END ......................C=0.1, gamma=0.1, kernel=poly; total time=   0.0s\n",
      "[CV] END ......................C=0.1, gamma=0.1, kernel=poly; total time=   0.0s\n",
      "[CV] END ......................C=0.1, gamma=0.1, kernel=poly; total time=   0.0s\n",
      "[CV] END ......................C=0.1, gamma=0.1, kernel=poly; total time=   0.0s\n",
      "[CV] END ......................C=0.1, gamma=0.1, kernel=poly; total time=   0.0s\n",
      "[CV] END .......................C=0.1, gamma=0.1, kernel=rbf; total time=   0.0s\n",
      "[CV] END .......................C=0.1, gamma=0.1, kernel=rbf; total time=   0.0s\n",
      "[CV] END .......................C=0.1, gamma=0.1, kernel=rbf; total time=   0.0s\n",
      "[CV] END .......................C=0.1, gamma=0.1, kernel=rbf; total time=   0.0s\n",
      "[CV] END .......................C=0.1, gamma=0.1, kernel=rbf; total time=   0.0s\n",
      "[CV] END ...................C=0.1, gamma=0.01, kernel=linear; total time=   0.0s\n",
      "[CV] END ...................C=0.1, gamma=0.01, kernel=linear; total time=   0.0s\n",
      "[CV] END ...................C=0.1, gamma=0.01, kernel=linear; total time=   0.0s\n",
      "[CV] END ...................C=0.1, gamma=0.01, kernel=linear; total time=   0.0s\n",
      "[CV] END ...................C=0.1, gamma=0.01, kernel=linear; total time=   0.0s\n",
      "[CV] END .....................C=0.1, gamma=0.01, kernel=poly; total time=   0.0s\n",
      "[CV] END .....................C=0.1, gamma=0.01, kernel=poly; total time=   0.0s\n",
      "[CV] END .....................C=0.1, gamma=0.01, kernel=poly; total time=   0.0s\n",
      "[CV] END .....................C=0.1, gamma=0.01, kernel=poly; total time=   0.0s\n",
      "[CV] END .....................C=0.1, gamma=0.01, kernel=poly; total time=   0.0s\n",
      "[CV] END ......................C=0.1, gamma=0.01, kernel=rbf; total time=   0.0s\n",
      "[CV] END ......................C=0.1, gamma=0.01, kernel=rbf; total time=   0.0s\n",
      "[CV] END ......................C=0.1, gamma=0.01, kernel=rbf; total time=   0.0s\n",
      "[CV] END ......................C=0.1, gamma=0.01, kernel=rbf; total time=   0.0s\n",
      "[CV] END ......................C=0.1, gamma=0.01, kernel=rbf; total time=   0.0s\n",
      "[CV] END ..................C=0.1, gamma=0.001, kernel=linear; total time=   0.0s\n",
      "[CV] END ..................C=0.1, gamma=0.001, kernel=linear; total time=   0.0s\n",
      "[CV] END ..................C=0.1, gamma=0.001, kernel=linear; total time=   0.0s\n",
      "[CV] END ..................C=0.1, gamma=0.001, kernel=linear; total time=   0.0s\n",
      "[CV] END ..................C=0.1, gamma=0.001, kernel=linear; total time=   0.0s\n",
      "[CV] END ....................C=0.1, gamma=0.001, kernel=poly; total time=   0.0s\n",
      "[CV] END ....................C=0.1, gamma=0.001, kernel=poly; total time=   0.0s\n",
      "[CV] END ....................C=0.1, gamma=0.001, kernel=poly; total time=   0.0s\n",
      "[CV] END ....................C=0.1, gamma=0.001, kernel=poly; total time=   0.0s\n",
      "[CV] END ....................C=0.1, gamma=0.001, kernel=poly; total time=   0.0s\n",
      "[CV] END .....................C=0.1, gamma=0.001, kernel=rbf; total time=   0.0s\n",
      "[CV] END .....................C=0.1, gamma=0.001, kernel=rbf; total time=   0.0s\n",
      "[CV] END .....................C=0.1, gamma=0.001, kernel=rbf; total time=   0.0s\n",
      "[CV] END .....................C=0.1, gamma=0.001, kernel=rbf; total time=   0.0s\n",
      "[CV] END .....................C=0.1, gamma=0.001, kernel=rbf; total time=   0.0s\n",
      "[CV] END ........................C=1, gamma=1, kernel=linear; total time=   0.0s\n",
      "[CV] END ........................C=1, gamma=1, kernel=linear; total time=   0.0s\n",
      "[CV] END ........................C=1, gamma=1, kernel=linear; total time=   0.0s\n",
      "[CV] END ........................C=1, gamma=1, kernel=linear; total time=   0.0s\n",
      "[CV] END ........................C=1, gamma=1, kernel=linear; total time=   0.0s\n",
      "[CV] END ..........................C=1, gamma=1, kernel=poly; total time=   0.0s\n",
      "[CV] END ..........................C=1, gamma=1, kernel=poly; total time=   0.0s\n",
      "[CV] END ..........................C=1, gamma=1, kernel=poly; total time=   0.0s\n",
      "[CV] END ..........................C=1, gamma=1, kernel=poly; total time=   0.0s\n",
      "[CV] END ..........................C=1, gamma=1, kernel=poly; total time=   0.0s\n",
      "[CV] END ...........................C=1, gamma=1, kernel=rbf; total time=   0.0s\n",
      "[CV] END ...........................C=1, gamma=1, kernel=rbf; total time=   0.0s\n",
      "[CV] END ...........................C=1, gamma=1, kernel=rbf; total time=   0.0s\n",
      "[CV] END ...........................C=1, gamma=1, kernel=rbf; total time=   0.0s\n",
      "[CV] END ...........................C=1, gamma=1, kernel=rbf; total time=   0.0s\n",
      "[CV] END ......................C=1, gamma=0.1, kernel=linear; total time=   0.0s\n",
      "[CV] END ......................C=1, gamma=0.1, kernel=linear; total time=   0.0s\n",
      "[CV] END ......................C=1, gamma=0.1, kernel=linear; total time=   0.0s\n",
      "[CV] END ......................C=1, gamma=0.1, kernel=linear; total time=   0.0s\n",
      "[CV] END ......................C=1, gamma=0.1, kernel=linear; total time=   0.0s\n",
      "[CV] END ........................C=1, gamma=0.1, kernel=poly; total time=   0.0s\n",
      "[CV] END ........................C=1, gamma=0.1, kernel=poly; total time=   0.0s\n",
      "[CV] END ........................C=1, gamma=0.1, kernel=poly; total time=   0.0s\n",
      "[CV] END ........................C=1, gamma=0.1, kernel=poly; total time=   0.0s\n",
      "[CV] END ........................C=1, gamma=0.1, kernel=poly; total time=   0.0s\n",
      "[CV] END .........................C=1, gamma=0.1, kernel=rbf; total time=   0.0s\n",
      "[CV] END .........................C=1, gamma=0.1, kernel=rbf; total time=   0.0s\n",
      "[CV] END .........................C=1, gamma=0.1, kernel=rbf; total time=   0.0s\n",
      "[CV] END .........................C=1, gamma=0.1, kernel=rbf; total time=   0.0s\n",
      "[CV] END .........................C=1, gamma=0.1, kernel=rbf; total time=   0.0s\n",
      "[CV] END .....................C=1, gamma=0.01, kernel=linear; total time=   0.0s\n",
      "[CV] END .....................C=1, gamma=0.01, kernel=linear; total time=   0.0s\n",
      "[CV] END .....................C=1, gamma=0.01, kernel=linear; total time=   0.0s\n",
      "[CV] END .....................C=1, gamma=0.01, kernel=linear; total time=   0.0s\n",
      "[CV] END .....................C=1, gamma=0.01, kernel=linear; total time=   0.0s\n",
      "[CV] END .......................C=1, gamma=0.01, kernel=poly; total time=   0.0s\n",
      "[CV] END .......................C=1, gamma=0.01, kernel=poly; total time=   0.0s\n",
      "[CV] END .......................C=1, gamma=0.01, kernel=poly; total time=   0.0s\n",
      "[CV] END .......................C=1, gamma=0.01, kernel=poly; total time=   0.0s\n",
      "[CV] END .......................C=1, gamma=0.01, kernel=poly; total time=   0.0s\n",
      "[CV] END ........................C=1, gamma=0.01, kernel=rbf; total time=   0.0s\n",
      "[CV] END ........................C=1, gamma=0.01, kernel=rbf; total time=   0.0s\n",
      "[CV] END ........................C=1, gamma=0.01, kernel=rbf; total time=   0.0s\n",
      "[CV] END ........................C=1, gamma=0.01, kernel=rbf; total time=   0.0s\n",
      "[CV] END ........................C=1, gamma=0.01, kernel=rbf; total time=   0.0s\n",
      "[CV] END ....................C=1, gamma=0.001, kernel=linear; total time=   0.0s\n",
      "[CV] END ....................C=1, gamma=0.001, kernel=linear; total time=   0.0s\n",
      "[CV] END ....................C=1, gamma=0.001, kernel=linear; total time=   0.0s\n",
      "[CV] END ....................C=1, gamma=0.001, kernel=linear; total time=   0.0s\n",
      "[CV] END ....................C=1, gamma=0.001, kernel=linear; total time=   0.0s\n",
      "[CV] END ......................C=1, gamma=0.001, kernel=poly; total time=   0.0s\n",
      "[CV] END ......................C=1, gamma=0.001, kernel=poly; total time=   0.0s\n",
      "[CV] END ......................C=1, gamma=0.001, kernel=poly; total time=   0.0s\n",
      "[CV] END ......................C=1, gamma=0.001, kernel=poly; total time=   0.0s\n",
      "[CV] END ......................C=1, gamma=0.001, kernel=poly; total time=   0.0s\n",
      "[CV] END .......................C=1, gamma=0.001, kernel=rbf; total time=   0.0s\n",
      "[CV] END .......................C=1, gamma=0.001, kernel=rbf; total time=   0.0s\n",
      "[CV] END .......................C=1, gamma=0.001, kernel=rbf; total time=   0.0s\n",
      "[CV] END .......................C=1, gamma=0.001, kernel=rbf; total time=   0.0s\n",
      "[CV] END .......................C=1, gamma=0.001, kernel=rbf; total time=   0.0s\n",
      "[CV] END .......................C=10, gamma=1, kernel=linear; total time=   0.0s\n",
      "[CV] END .......................C=10, gamma=1, kernel=linear; total time=   0.0s\n",
      "[CV] END .......................C=10, gamma=1, kernel=linear; total time=   0.0s\n",
      "[CV] END .......................C=10, gamma=1, kernel=linear; total time=   0.0s\n",
      "[CV] END .......................C=10, gamma=1, kernel=linear; total time=   0.0s\n",
      "[CV] END .........................C=10, gamma=1, kernel=poly; total time=   0.0s\n",
      "[CV] END .........................C=10, gamma=1, kernel=poly; total time=   0.0s\n",
      "[CV] END .........................C=10, gamma=1, kernel=poly; total time=   0.0s\n",
      "[CV] END .........................C=10, gamma=1, kernel=poly; total time=   0.0s\n",
      "[CV] END .........................C=10, gamma=1, kernel=poly; total time=   0.0s\n",
      "[CV] END ..........................C=10, gamma=1, kernel=rbf; total time=   0.0s\n",
      "[CV] END ..........................C=10, gamma=1, kernel=rbf; total time=   0.0s\n",
      "[CV] END ..........................C=10, gamma=1, kernel=rbf; total time=   0.0s\n",
      "[CV] END ..........................C=10, gamma=1, kernel=rbf; total time=   0.0s\n",
      "[CV] END ..........................C=10, gamma=1, kernel=rbf; total time=   0.0s\n",
      "[CV] END .....................C=10, gamma=0.1, kernel=linear; total time=   0.0s\n",
      "[CV] END .....................C=10, gamma=0.1, kernel=linear; total time=   0.0s\n",
      "[CV] END .....................C=10, gamma=0.1, kernel=linear; total time=   0.0s\n",
      "[CV] END .....................C=10, gamma=0.1, kernel=linear; total time=   0.0s\n",
      "[CV] END .....................C=10, gamma=0.1, kernel=linear; total time=   0.0s\n",
      "[CV] END .......................C=10, gamma=0.1, kernel=poly; total time=   0.0s\n",
      "[CV] END .......................C=10, gamma=0.1, kernel=poly; total time=   0.0s\n",
      "[CV] END .......................C=10, gamma=0.1, kernel=poly; total time=   0.0s\n",
      "[CV] END .......................C=10, gamma=0.1, kernel=poly; total time=   0.0s\n",
      "[CV] END .......................C=10, gamma=0.1, kernel=poly; total time=   0.0s\n",
      "[CV] END ........................C=10, gamma=0.1, kernel=rbf; total time=   0.0s\n",
      "[CV] END ........................C=10, gamma=0.1, kernel=rbf; total time=   0.0s\n",
      "[CV] END ........................C=10, gamma=0.1, kernel=rbf; total time=   0.0s\n",
      "[CV] END ........................C=10, gamma=0.1, kernel=rbf; total time=   0.0s\n",
      "[CV] END ........................C=10, gamma=0.1, kernel=rbf; total time=   0.0s\n",
      "[CV] END ....................C=10, gamma=0.01, kernel=linear; total time=   0.0s\n",
      "[CV] END ....................C=10, gamma=0.01, kernel=linear; total time=   0.0s\n",
      "[CV] END ....................C=10, gamma=0.01, kernel=linear; total time=   0.0s\n",
      "[CV] END ....................C=10, gamma=0.01, kernel=linear; total time=   0.0s\n",
      "[CV] END ....................C=10, gamma=0.01, kernel=linear; total time=   0.0s\n",
      "[CV] END ......................C=10, gamma=0.01, kernel=poly; total time=   0.0s\n",
      "[CV] END ......................C=10, gamma=0.01, kernel=poly; total time=   0.0s\n",
      "[CV] END ......................C=10, gamma=0.01, kernel=poly; total time=   0.0s\n",
      "[CV] END ......................C=10, gamma=0.01, kernel=poly; total time=   0.0s\n",
      "[CV] END ......................C=10, gamma=0.01, kernel=poly; total time=   0.0s\n",
      "[CV] END .......................C=10, gamma=0.01, kernel=rbf; total time=   0.0s\n",
      "[CV] END .......................C=10, gamma=0.01, kernel=rbf; total time=   0.0s\n",
      "[CV] END .......................C=10, gamma=0.01, kernel=rbf; total time=   0.0s\n",
      "[CV] END .......................C=10, gamma=0.01, kernel=rbf; total time=   0.0s\n",
      "[CV] END .......................C=10, gamma=0.01, kernel=rbf; total time=   0.0s\n",
      "[CV] END ...................C=10, gamma=0.001, kernel=linear; total time=   0.0s\n",
      "[CV] END ...................C=10, gamma=0.001, kernel=linear; total time=   0.0s\n",
      "[CV] END ...................C=10, gamma=0.001, kernel=linear; total time=   0.0s\n",
      "[CV] END ...................C=10, gamma=0.001, kernel=linear; total time=   0.0s\n",
      "[CV] END ...................C=10, gamma=0.001, kernel=linear; total time=   0.0s\n",
      "[CV] END .....................C=10, gamma=0.001, kernel=poly; total time=   0.0s\n",
      "[CV] END .....................C=10, gamma=0.001, kernel=poly; total time=   0.0s\n",
      "[CV] END .....................C=10, gamma=0.001, kernel=poly; total time=   0.0s\n",
      "[CV] END .....................C=10, gamma=0.001, kernel=poly; total time=   0.0s\n",
      "[CV] END .....................C=10, gamma=0.001, kernel=poly; total time=   0.0s\n",
      "[CV] END ......................C=10, gamma=0.001, kernel=rbf; total time=   0.0s\n",
      "[CV] END ......................C=10, gamma=0.001, kernel=rbf; total time=   0.0s\n",
      "[CV] END ......................C=10, gamma=0.001, kernel=rbf; total time=   0.0s\n",
      "[CV] END ......................C=10, gamma=0.001, kernel=rbf; total time=   0.0s\n",
      "[CV] END ......................C=10, gamma=0.001, kernel=rbf; total time=   0.0s\n",
      "[CV] END ......................C=100, gamma=1, kernel=linear; total time=   0.0s\n",
      "[CV] END ......................C=100, gamma=1, kernel=linear; total time=   0.0s\n",
      "[CV] END ......................C=100, gamma=1, kernel=linear; total time=   0.0s\n",
      "[CV] END ......................C=100, gamma=1, kernel=linear; total time=   0.0s\n",
      "[CV] END ......................C=100, gamma=1, kernel=linear; total time=   0.0s\n",
      "[CV] END ........................C=100, gamma=1, kernel=poly; total time=   0.0s\n",
      "[CV] END ........................C=100, gamma=1, kernel=poly; total time=   0.0s\n",
      "[CV] END ........................C=100, gamma=1, kernel=poly; total time=   0.0s\n",
      "[CV] END ........................C=100, gamma=1, kernel=poly; total time=   0.2s\n",
      "[CV] END ........................C=100, gamma=1, kernel=poly; total time=   0.0s\n",
      "[CV] END .........................C=100, gamma=1, kernel=rbf; total time=   0.0s\n",
      "[CV] END .........................C=100, gamma=1, kernel=rbf; total time=   0.0s\n",
      "[CV] END .........................C=100, gamma=1, kernel=rbf; total time=   0.0s\n",
      "[CV] END .........................C=100, gamma=1, kernel=rbf; total time=   0.0s\n",
      "[CV] END .........................C=100, gamma=1, kernel=rbf; total time=   0.0s\n",
      "[CV] END ....................C=100, gamma=0.1, kernel=linear; total time=   0.0s\n",
      "[CV] END ....................C=100, gamma=0.1, kernel=linear; total time=   0.0s\n",
      "[CV] END ....................C=100, gamma=0.1, kernel=linear; total time=   0.0s\n",
      "[CV] END ....................C=100, gamma=0.1, kernel=linear; total time=   0.0s\n",
      "[CV] END ....................C=100, gamma=0.1, kernel=linear; total time=   0.0s\n",
      "[CV] END ......................C=100, gamma=0.1, kernel=poly; total time=   0.0s\n",
      "[CV] END ......................C=100, gamma=0.1, kernel=poly; total time=   0.0s\n",
      "[CV] END ......................C=100, gamma=0.1, kernel=poly; total time=   0.0s\n",
      "[CV] END ......................C=100, gamma=0.1, kernel=poly; total time=   0.0s\n",
      "[CV] END ......................C=100, gamma=0.1, kernel=poly; total time=   0.0s\n",
      "[CV] END .......................C=100, gamma=0.1, kernel=rbf; total time=   0.0s\n",
      "[CV] END .......................C=100, gamma=0.1, kernel=rbf; total time=   0.0s\n",
      "[CV] END .......................C=100, gamma=0.1, kernel=rbf; total time=   0.0s\n",
      "[CV] END .......................C=100, gamma=0.1, kernel=rbf; total time=   0.0s\n",
      "[CV] END .......................C=100, gamma=0.1, kernel=rbf; total time=   0.0s\n",
      "[CV] END ...................C=100, gamma=0.01, kernel=linear; total time=   0.0s\n",
      "[CV] END ...................C=100, gamma=0.01, kernel=linear; total time=   0.0s\n",
      "[CV] END ...................C=100, gamma=0.01, kernel=linear; total time=   0.0s\n",
      "[CV] END ...................C=100, gamma=0.01, kernel=linear; total time=   0.0s\n",
      "[CV] END ...................C=100, gamma=0.01, kernel=linear; total time=   0.0s\n",
      "[CV] END .....................C=100, gamma=0.01, kernel=poly; total time=   0.0s\n",
      "[CV] END .....................C=100, gamma=0.01, kernel=poly; total time=   0.0s\n",
      "[CV] END .....................C=100, gamma=0.01, kernel=poly; total time=   0.0s\n",
      "[CV] END .....................C=100, gamma=0.01, kernel=poly; total time=   0.0s\n",
      "[CV] END .....................C=100, gamma=0.01, kernel=poly; total time=   0.0s\n",
      "[CV] END ......................C=100, gamma=0.01, kernel=rbf; total time=   0.0s\n",
      "[CV] END ......................C=100, gamma=0.01, kernel=rbf; total time=   0.0s\n",
      "[CV] END ......................C=100, gamma=0.01, kernel=rbf; total time=   0.0s\n",
      "[CV] END ......................C=100, gamma=0.01, kernel=rbf; total time=   0.0s\n",
      "[CV] END ......................C=100, gamma=0.01, kernel=rbf; total time=   0.0s\n",
      "[CV] END ..................C=100, gamma=0.001, kernel=linear; total time=   0.0s\n",
      "[CV] END ..................C=100, gamma=0.001, kernel=linear; total time=   0.0s\n",
      "[CV] END ..................C=100, gamma=0.001, kernel=linear; total time=   0.0s\n",
      "[CV] END ..................C=100, gamma=0.001, kernel=linear; total time=   0.0s\n",
      "[CV] END ..................C=100, gamma=0.001, kernel=linear; total time=   0.0s\n",
      "[CV] END ....................C=100, gamma=0.001, kernel=poly; total time=   0.0s\n",
      "[CV] END ....................C=100, gamma=0.001, kernel=poly; total time=   0.0s\n",
      "[CV] END ....................C=100, gamma=0.001, kernel=poly; total time=   0.0s\n",
      "[CV] END ....................C=100, gamma=0.001, kernel=poly; total time=   0.0s\n",
      "[CV] END ....................C=100, gamma=0.001, kernel=poly; total time=   0.0s\n",
      "[CV] END .....................C=100, gamma=0.001, kernel=rbf; total time=   0.0s\n",
      "[CV] END .....................C=100, gamma=0.001, kernel=rbf; total time=   0.0s\n",
      "[CV] END .....................C=100, gamma=0.001, kernel=rbf; total time=   0.0s\n",
      "[CV] END .....................C=100, gamma=0.001, kernel=rbf; total time=   0.0s\n",
      "[CV] END .....................C=100, gamma=0.001, kernel=rbf; total time=   0.0s\n",
      "Best parameters: {'C': 100, 'gamma': 0.01, 'kernel': 'rbf'}\n",
      "Accuracy: 1.00\n"
     ]
    }
   ],
   "source": [
    "import numpy as np\n",
    "from sklearn import datasets\n",
    "from sklearn.svm import SVC\n",
    "from sklearn.model_selection import train_test_split, GridSearchCV\n",
    "from sklearn.metrics import accuracy_score\n",
    "\n",
    "# Load the Iris dataset\n",
    "iris = datasets.load_iris()\n",
    "X = iris.data\n",
    "y = iris.target\n",
    "\n",
    "# Split the dataset into training and testing sets\n",
    "X_train, X_test, y_train, y_test = train_test_split(X, y, test_size=0.3, random_state=42)\n",
    "\n",
    "# Define the parameter grid to search\n",
    "param_grid = {\n",
    "    'C': [0.1, 1, 10, 100],\n",
    "    'gamma': [1, 0.1, 0.01, 0.001],\n",
    "    'kernel': ['linear', 'poly', 'rbf']\n",
    "}\n",
    "\n",
    "# Initialize the SVM classifier\n",
    "svm = SVC()\n",
    "\n",
    "# Initialize GridSearchCV with the SVM classifier and parameter grid\n",
    "grid_search = GridSearchCV(svm, param_grid, refit=True, verbose=2, cv=5)\n",
    "\n",
    "# Fit the model to the training data\n",
    "grid_search.fit(X_train, y_train)\n",
    "\n",
    "# Print the best parameters found by GridSearchCV\n",
    "print(f'Best parameters: {grid_search.best_params_}')\n",
    "\n",
    "# Make predictions using the best model\n",
    "best_svm = grid_search.best_estimator_\n",
    "y_pred = best_svm.predict(X_test)\n",
    "\n",
    "# Evaluate the classifier's performance\n",
    "accuracy = accuracy_score(y_test, y_pred)\n",
    "print(f'Accuracy: {accuracy:.2f}')\n"
   ]
  },
  {
   "cell_type": "code",
   "execution_count": 43,
   "id": "720be220-5543-4fa7-8eb0-969d99c0f0f2",
   "metadata": {},
   "outputs": [],
   "source": [
    "#Q32  Write a Python program to train an SVM Classifier on an imbalanced dataset and apply class weighting and check it improve accuracy"
   ]
  },
  {
   "cell_type": "code",
   "execution_count": 44,
   "id": "0295477b-b3d6-4730-9588-9119ce993f8a",
   "metadata": {},
   "outputs": [
    {
     "name": "stdout",
     "output_type": "stream",
     "text": [
      "Accuracy without class weighting: 0.98\n",
      "Classification Report without class weighting:\n",
      "              precision    recall  f1-score   support\n",
      "\n",
      "           0       0.98      1.00      0.99       274\n",
      "           1       1.00      0.81      0.89        26\n",
      "\n",
      "    accuracy                           0.98       300\n",
      "   macro avg       0.99      0.90      0.94       300\n",
      "weighted avg       0.98      0.98      0.98       300\n",
      "\n",
      "Accuracy with class weighting: 0.97\n",
      "Classification Report with class weighting:\n",
      "              precision    recall  f1-score   support\n",
      "\n",
      "           0       0.98      0.98      0.98       274\n",
      "           1       0.81      0.81      0.81        26\n",
      "\n",
      "    accuracy                           0.97       300\n",
      "   macro avg       0.89      0.89      0.89       300\n",
      "weighted avg       0.97      0.97      0.97       300\n",
      "\n"
     ]
    }
   ],
   "source": [
    "import numpy as np\n",
    "from sklearn.datasets import make_classification\n",
    "from sklearn.model_selection import train_test_split\n",
    "from sklearn.svm import SVC\n",
    "from sklearn.metrics import accuracy_score, classification_report\n",
    "\n",
    "# Create a synthetic imbalanced dataset\n",
    "X, y = make_classification(n_samples=1000, n_features=20, n_informative=2, n_redundant=0, n_clusters_per_class=1, \n",
    "                           weights=[0.9, 0.1], flip_y=0, random_state=42)\n",
    "\n",
    "# Split the dataset into training and testing sets\n",
    "X_train, X_test, y_train, y_test = train_test_split(X, y, test_size=0.3, random_state=42)\n",
    "\n",
    "# Train an SVM classifier without class weighting\n",
    "svm_no_weight = SVC(kernel='linear', random_state=42)\n",
    "svm_no_weight.fit(X_train, y_train)\n",
    "y_pred_no_weight = svm_no_weight.predict(X_test)\n",
    "\n",
    "# Evaluate the classifier's performance without class weighting\n",
    "accuracy_no_weight = accuracy_score(y_test, y_pred_no_weight)\n",
    "print(f'Accuracy without class weighting: {accuracy_no_weight:.2f}')\n",
    "print(\"Classification Report without class weighting:\")\n",
    "print(classification_report(y_test, y_pred_no_weight))\n",
    "\n",
    "# Train an SVM classifier with class weighting\n",
    "svm_weight = SVC(kernel='linear', class_weight='balanced', random_state=42)\n",
    "svm_weight.fit(X_train, y_train)\n",
    "y_pred_weight = svm_weight.predict(X_test)\n",
    "\n",
    "# Evaluate the classifier's performance with class weighting\n",
    "accuracy_weight = accuracy_score(y_test, y_pred_weight)\n",
    "print(f'Accuracy with class weighting: {accuracy_weight:.2f}')\n",
    "print(\"Classification Report with class weighting:\")\n",
    "print(classification_report(y_test, y_pred_weight))\n"
   ]
  },
  {
   "cell_type": "code",
   "execution_count": 45,
   "id": "18d8b0b7-8281-4f48-a5c0-e06541af2bf0",
   "metadata": {},
   "outputs": [],
   "source": [
    "#Q33 Write a Python program to implement a Naïve Bayes classifier for spam detection using email data"
   ]
  },
  {
   "cell_type": "code",
   "execution_count": 46,
   "id": "0b7466f0-a0bc-43a2-9fac-6796f786d0c8",
   "metadata": {},
   "outputs": [
    {
     "name": "stdout",
     "output_type": "stream",
     "text": [
      "Accuracy: 0.33\n",
      "Classification Report:\n",
      "              precision    recall  f1-score   support\n",
      "\n",
      "           0       0.33      1.00      0.50         1\n",
      "           1       1.00      0.00      0.00         2\n",
      "\n",
      "    accuracy                           0.33         3\n",
      "   macro avg       0.67      0.50      0.25         3\n",
      "weighted avg       0.78      0.33      0.17         3\n",
      "\n"
     ]
    }
   ],
   "source": [
    "import pandas as pd\n",
    "from sklearn.feature_extraction.text import CountVectorizer\n",
    "from sklearn.model_selection import train_test_split\n",
    "from sklearn.naive_bayes import MultinomialNB\n",
    "from sklearn.metrics import accuracy_score, classification_report\n",
    "\n",
    "# Load the dataset (replace 'path_to_data' with the actual path to your dataset)\n",
    "data = pd.read_csv('synthetic_spam_dataset.csv', sep='\\t', names=['label', 'message'], header=None)\n",
    "\n",
    "# Drop rows with missing values\n",
    "data.dropna(inplace=True)\n",
    "\n",
    "# Preprocess the data\n",
    "data['label'] = data['label'].map({'ham': 0, 'spam': 1})\n",
    "\n",
    "# Convert all messages to strings and remove empty messages\n",
    "data['message'] = data['message'].astype(str).str.strip()\n",
    "data = data[data['message'] != '']\n",
    "\n",
    "# Split the data into features (X) and labels (y)\n",
    "X = data['message']\n",
    "y = data['label']\n",
    "\n",
    "# Convert the text data into numerical data using CountVectorizer\n",
    "vectorizer = CountVectorizer(stop_words='english')\n",
    "X = vectorizer.fit_transform(X)\n",
    "\n",
    "# Split the data into training and testing sets\n",
    "X_train, X_test, y_train, y_test = train_test_split(X, y, test_size=0.3, random_state=42)\n",
    "\n",
    "# Initialize and train a Multinomial Naïve Bayes classifier\n",
    "nb = MultinomialNB()\n",
    "nb.fit(X_train, y_train)\n",
    "\n",
    "# Make predictions on the test set\n",
    "y_pred = nb.predict(X_test)\n",
    "\n",
    "# Evaluate the classifier's performance\n",
    "accuracy = accuracy_score(y_test, y_pred)\n",
    "print(f'Accuracy: {accuracy:.2f}')\n",
    "print(\"Classification Report:\")\n",
    "print(classification_report(y_test, y_pred, zero_division=1))\n"
   ]
  },
  {
   "cell_type": "code",
   "execution_count": 47,
   "id": "8b7d28aa-89b7-4360-a8e1-8baa5f1d5aa6",
   "metadata": {},
   "outputs": [],
   "source": [
    " #Q34 Write a Python program to train an SVM Classifier and a Naïve Bayes Classifier on the same dataset and compare their accuracy"
   ]
  },
  {
   "cell_type": "code",
   "execution_count": 48,
   "id": "2b57863f-74e3-432c-b884-772ccc1151d6",
   "metadata": {},
   "outputs": [
    {
     "name": "stdout",
     "output_type": "stream",
     "text": [
      "Accuracy of SVM Classifier: 1.00\n",
      "Accuracy of Naïve Bayes Classifier: 0.98\n"
     ]
    }
   ],
   "source": [
    "import numpy as np\n",
    "from sklearn import datasets\n",
    "from sklearn.model_selection import train_test_split\n",
    "from sklearn.svm import SVC\n",
    "from sklearn.naive_bayes import GaussianNB\n",
    "from sklearn.metrics import accuracy_score\n",
    "\n",
    "# Load the Iris dataset\n",
    "iris = datasets.load_iris()\n",
    "X = iris.data\n",
    "y = iris.target\n",
    "\n",
    "# Split the dataset into training and testing sets\n",
    "X_train, X_test, y_train, y_test = train_test_split(X, y, test_size=0.3, random_state=42)\n",
    "\n",
    "# Train an SVM classifier\n",
    "svm = SVC(kernel='linear', random_state=42)\n",
    "svm.fit(X_train, y_train)\n",
    "y_pred_svm = svm.predict(X_test)\n",
    "accuracy_svm = accuracy_score(y_test, y_pred_svm)\n",
    "print(f'Accuracy of SVM Classifier: {accuracy_svm:.2f}')\n",
    "\n",
    "# Train a Gaussian Naïve Bayes classifier\n",
    "gnb = GaussianNB()\n",
    "gnb.fit(X_train, y_train)\n",
    "y_pred_nb = gnb.predict(X_test)\n",
    "accuracy_nb = accuracy_score(y_test, y_pred_nb)\n",
    "print(f'Accuracy of Naïve Bayes Classifier: {accuracy_nb:.2f}')\n"
   ]
  },
  {
   "cell_type": "code",
   "execution_count": 49,
   "id": "fd70e797-b893-4d59-b42d-b35da10cef0c",
   "metadata": {},
   "outputs": [],
   "source": [
    "#Q35  Write a Python program to perform feature selection before training a Naïve Bayes classifier and compare results"
   ]
  },
  {
   "cell_type": "code",
   "execution_count": 50,
   "id": "e544b24c-8039-4db9-b459-405a54b32d66",
   "metadata": {},
   "outputs": [
    {
     "name": "stdout",
     "output_type": "stream",
     "text": [
      "Accuracy without feature selection: 0.98\n",
      "Classification Report without feature selection:\n",
      "              precision    recall  f1-score   support\n",
      "\n",
      "           0       1.00      1.00      1.00        19\n",
      "           1       1.00      0.92      0.96        13\n",
      "           2       0.93      1.00      0.96        13\n",
      "\n",
      "    accuracy                           0.98        45\n",
      "   macro avg       0.98      0.97      0.97        45\n",
      "weighted avg       0.98      0.98      0.98        45\n",
      "\n",
      "\n",
      "Accuracy with feature selection: 1.00\n",
      "Classification Report with feature selection:\n",
      "              precision    recall  f1-score   support\n",
      "\n",
      "           0       1.00      1.00      1.00        19\n",
      "           1       1.00      1.00      1.00        13\n",
      "           2       1.00      1.00      1.00        13\n",
      "\n",
      "    accuracy                           1.00        45\n",
      "   macro avg       1.00      1.00      1.00        45\n",
      "weighted avg       1.00      1.00      1.00        45\n",
      "\n"
     ]
    }
   ],
   "source": [
    "import pandas as pd\n",
    "import numpy as np\n",
    "from sklearn.datasets import load_iris\n",
    "from sklearn.model_selection import train_test_split\n",
    "from sklearn.naive_bayes import GaussianNB\n",
    "from sklearn.feature_selection import SelectKBest, f_classif\n",
    "from sklearn.metrics import accuracy_score, classification_report\n",
    "\n",
    "# Load the Iris dataset\n",
    "iris = load_iris()\n",
    "X = iris.data\n",
    "y = iris.target\n",
    "\n",
    "# Split the dataset into training and testing sets\n",
    "X_train, X_test, y_train, y_test = train_test_split(X, y, test_size=0.3, random_state=42)\n",
    "\n",
    "# Train a Gaussian Naïve Bayes classifier without feature selection\n",
    "gnb_no_fs = GaussianNB()\n",
    "gnb_no_fs.fit(X_train, y_train)\n",
    "y_pred_no_fs = gnb_no_fs.predict(X_test)\n",
    "\n",
    "# Evaluate the classifier's performance without feature selection\n",
    "accuracy_no_fs = accuracy_score(y_test, y_pred_no_fs)\n",
    "print(f'Accuracy without feature selection: {accuracy_no_fs:.2f}')\n",
    "print(\"Classification Report without feature selection:\")\n",
    "print(classification_report(y_test, y_pred_no_fs))\n",
    "\n",
    "# Perform feature selection using SelectKBest\n",
    "k = 2  # Number of top features to select\n",
    "selector = SelectKBest(score_func=f_classif, k=k)\n",
    "X_train_selected = selector.fit_transform(X_train, y_train)\n",
    "X_test_selected = selector.transform(X_test)\n",
    "\n",
    "# Train a Gaussian Naïve Bayes classifier with feature selection\n",
    "gnb_fs = GaussianNB()\n",
    "gnb_fs.fit(X_train_selected, y_train)\n",
    "y_pred_fs = gnb_fs.predict(X_test_selected)\n",
    "\n",
    "# Evaluate the classifier's performance with feature selection\n",
    "accuracy_fs = accuracy_score(y_test, y_pred_fs)\n",
    "print(f'\\nAccuracy with feature selection: {accuracy_fs:.2f}')\n",
    "print(\"Classification Report with feature selection:\")\n",
    "print(classification_report(y_test, y_pred_fs))\n"
   ]
  },
  {
   "cell_type": "code",
   "execution_count": 51,
   "id": "8ce1897f-5ef7-4236-af4f-28f4b83c736c",
   "metadata": {},
   "outputs": [],
   "source": [
    "#Q36  Write a Python program to train an SVM Classifier using One-vs-Rest (OvR) and One-vs-One (OvO) strategies on the Wine dataset and compare their accuracy"
   ]
  },
  {
   "cell_type": "code",
   "execution_count": 52,
   "id": "46a35dc8-f7b4-4424-a065-0a527f74145c",
   "metadata": {},
   "outputs": [
    {
     "name": "stdout",
     "output_type": "stream",
     "text": [
      "Accuracy of SVM Classifier using One-vs-Rest (OvR) strategy: 0.98\n",
      "Accuracy of SVM Classifier using One-vs-One (OvO) strategy: 0.98\n"
     ]
    }
   ],
   "source": [
    "import numpy as np\n",
    "from sklearn import datasets\n",
    "from sklearn.model_selection import train_test_split\n",
    "from sklearn.svm import SVC\n",
    "from sklearn.multiclass import OneVsRestClassifier, OneVsOneClassifier\n",
    "from sklearn.metrics import accuracy_score\n",
    "\n",
    "# Load the Wine dataset\n",
    "wine = datasets.load_wine()\n",
    "X = wine.data\n",
    "y = wine.target\n",
    "\n",
    "# Split the dataset into training and testing sets\n",
    "X_train, X_test, y_train, y_test = train_test_split(X, y, test_size=0.3, random_state=42)\n",
    "\n",
    "# Train an SVM classifier using One-vs-Rest (OvR) strategy\n",
    "ovr_svm = OneVsRestClassifier(SVC(kernel='linear', random_state=42))\n",
    "ovr_svm.fit(X_train, y_train)\n",
    "y_pred_ovr = ovr_svm.predict(X_test)\n",
    "accuracy_ovr = accuracy_score(y_test, y_pred_ovr)\n",
    "print(f'Accuracy of SVM Classifier using One-vs-Rest (OvR) strategy: {accuracy_ovr:.2f}')\n",
    "\n",
    "# Train an SVM classifier using One-vs-One (OvO) strategy\n",
    "ovo_svm = OneVsOneClassifier(SVC(kernel='linear', random_state=42))\n",
    "ovo_svm.fit(X_train, y_train)\n",
    "y_pred_ovo = ovo_svm.predict(X_test)\n",
    "accuracy_ovo = accuracy_score(y_test, y_pred_ovo)\n",
    "print(f'Accuracy of SVM Classifier using One-vs-One (OvO) strategy: {accuracy_ovo:.2f}')\n"
   ]
  },
  {
   "cell_type": "code",
   "execution_count": 53,
   "id": "6d20f659-a663-41dd-bec3-776f4d4de595",
   "metadata": {},
   "outputs": [],
   "source": [
    "#Q37Write a Python program to train an SVM Classifier using Linear, Polynomial, and RBF kernels on the Breast Cancer dataset and compare their accuracy"
   ]
  },
  {
   "cell_type": "code",
   "execution_count": 54,
   "id": "d8742518-7f36-4f47-8219-61ee4d3f5860",
   "metadata": {},
   "outputs": [
    {
     "name": "stdout",
     "output_type": "stream",
     "text": [
      "Accuracy of SVM Classifier with linear kernel: 0.96\n",
      "Classification Report for linear kernel:\n",
      "              precision    recall  f1-score   support\n",
      "\n",
      "           0       0.97      0.94      0.95        63\n",
      "           1       0.96      0.98      0.97       108\n",
      "\n",
      "    accuracy                           0.96       171\n",
      "   macro avg       0.97      0.96      0.96       171\n",
      "weighted avg       0.96      0.96      0.96       171\n",
      "\n",
      "Accuracy of SVM Classifier with poly kernel: 0.94\n",
      "Classification Report for poly kernel:\n",
      "              precision    recall  f1-score   support\n",
      "\n",
      "           0       0.98      0.86      0.92        63\n",
      "           1       0.92      0.99      0.96       108\n",
      "\n",
      "    accuracy                           0.94       171\n",
      "   macro avg       0.95      0.92      0.94       171\n",
      "weighted avg       0.94      0.94      0.94       171\n",
      "\n",
      "Accuracy of SVM Classifier with rbf kernel: 0.94\n",
      "Classification Report for rbf kernel:\n",
      "              precision    recall  f1-score   support\n",
      "\n",
      "           0       1.00      0.83      0.90        63\n",
      "           1       0.91      1.00      0.95       108\n",
      "\n",
      "    accuracy                           0.94       171\n",
      "   macro avg       0.95      0.91      0.93       171\n",
      "weighted avg       0.94      0.94      0.93       171\n",
      "\n"
     ]
    }
   ],
   "source": [
    "import numpy as np\n",
    "from sklearn import datasets\n",
    "from sklearn.model_selection import train_test_split\n",
    "from sklearn.svm import SVC\n",
    "from sklearn.metrics import accuracy_score, classification_report\n",
    "\n",
    "# Load the Breast Cancer dataset\n",
    "cancer = datasets.load_breast_cancer()\n",
    "X = cancer.data\n",
    "y = cancer.target\n",
    "\n",
    "# Split the dataset into training and testing sets\n",
    "X_train, X_test, y_train, y_test = train_test_split(X, y, test_size=0.3, random_state=42)\n",
    "\n",
    "# Define the kernels to be used\n",
    "kernels = ['linear', 'poly', 'rbf']\n",
    "\n",
    "# Train and evaluate SVM classifiers with different kernels\n",
    "for kernel in kernels:\n",
    "    svm = SVC(kernel=kernel, random_state=42)\n",
    "    svm.fit(X_train, y_train)\n",
    "    y_pred = svm.predict(X_test)\n",
    "    \n",
    "    accuracy = accuracy_score(y_test, y_pred)\n",
    "    print(f'Accuracy of SVM Classifier with {kernel} kernel: {accuracy:.2f}')\n",
    "    print(f'Classification Report for {kernel} kernel:')\n",
    "    print(classification_report(y_test, y_pred))\n",
    "\n"
   ]
  },
  {
   "cell_type": "code",
   "execution_count": 55,
   "id": "9b0b562d-2142-44bb-b04b-cd812970d927",
   "metadata": {},
   "outputs": [],
   "source": [
    "#Q38 Write a Python program to train an SVM Classifier using Stratified K-Fold Cross-Validation and compute the average accuracy"
   ]
  },
  {
   "cell_type": "code",
   "execution_count": 56,
   "id": "e7b9141a-3cc2-4914-ab42-db83303f18e2",
   "metadata": {},
   "outputs": [
    {
     "name": "stdout",
     "output_type": "stream",
     "text": [
      "Accuracies for each fold: [0.94736842 0.92982456 0.95614035 0.93859649 0.96460177]\n",
      "Average accuracy: 0.95\n"
     ]
    }
   ],
   "source": [
    "import numpy as np\n",
    "from sklearn import datasets\n",
    "from sklearn.svm import SVC\n",
    "from sklearn.model_selection import StratifiedKFold, cross_val_score\n",
    "\n",
    "# Load the Breast Cancer dataset\n",
    "cancer = datasets.load_breast_cancer()\n",
    "X = cancer.data\n",
    "y = cancer.target\n",
    "\n",
    "# Initialize the SVM classifier\n",
    "svm = SVC(kernel='linear', random_state=42)\n",
    "\n",
    "# Initialize Stratified K-Fold Cross-Validation\n",
    "skf = StratifiedKFold(n_splits=5, shuffle=True, random_state=42)\n",
    "\n",
    "# Perform Stratified K-Fold Cross-Validation and compute the accuracy for each fold\n",
    "accuracies = cross_val_score(svm, X, y, cv=skf, scoring='accuracy')\n",
    "\n",
    "# Compute the average accuracy\n",
    "average_accuracy = np.mean(accuracies)\n",
    "print(f'Accuracies for each fold: {accuracies}')\n",
    "print(f'Average accuracy: {average_accuracy:.2f}')\n"
   ]
  },
  {
   "cell_type": "code",
   "execution_count": 57,
   "id": "049a46b3-1789-4f3b-8ae4-d70e3a386f4c",
   "metadata": {},
   "outputs": [],
   "source": [
    "#Q39 Write a Python program to train a Naïve Bayes classifier using different prior probabilities and compare performance"
   ]
  },
  {
   "cell_type": "code",
   "execution_count": 58,
   "id": "851e48cd-80ce-477b-97e5-344b8ab95f1c",
   "metadata": {},
   "outputs": [
    {
     "name": "stdout",
     "output_type": "stream",
     "text": [
      "Accuracy with default priors: 0.98\n",
      "Classification Report with default priors:\n",
      "              precision    recall  f1-score   support\n",
      "\n",
      "           0       1.00      1.00      1.00        19\n",
      "           1       1.00      0.92      0.96        13\n",
      "           2       0.93      1.00      0.96        13\n",
      "\n",
      "    accuracy                           0.98        45\n",
      "   macro avg       0.98      0.97      0.97        45\n",
      "weighted avg       0.98      0.98      0.98        45\n",
      "\n",
      "\n",
      "Accuracy with custom priors: 1.00\n",
      "Classification Report with custom priors:\n",
      "              precision    recall  f1-score   support\n",
      "\n",
      "           0       1.00      1.00      1.00        19\n",
      "           1       1.00      1.00      1.00        13\n",
      "           2       1.00      1.00      1.00        13\n",
      "\n",
      "    accuracy                           1.00        45\n",
      "   macro avg       1.00      1.00      1.00        45\n",
      "weighted avg       1.00      1.00      1.00        45\n",
      "\n"
     ]
    }
   ],
   "source": [
    "import numpy as np\n",
    "from sklearn import datasets\n",
    "from sklearn.model_selection import train_test_split\n",
    "from sklearn.naive_bayes import GaussianNB\n",
    "from sklearn.metrics import accuracy_score, classification_report\n",
    "\n",
    "# Load the Iris dataset\n",
    "iris = datasets.load_iris()\n",
    "X = iris.data\n",
    "y = iris.target\n",
    "\n",
    "# Split the dataset into training and testing sets\n",
    "X_train, X_test, y_train, y_test = train_test_split(X, y, test_size=0.3, random_state=42)\n",
    "\n",
    "# Train a Gaussian Naïve Bayes classifier with default priors\n",
    "gnb_default = GaussianNB()\n",
    "gnb_default.fit(X_train, y_train)\n",
    "y_pred_default = gnb_default.predict(X_test)\n",
    "\n",
    "# Evaluate the classifier's performance with default priors\n",
    "accuracy_default = accuracy_score(y_test, y_pred_default)\n",
    "print(f'Accuracy with default priors: {accuracy_default:.2f}')\n",
    "print(\"Classification Report with default priors:\")\n",
    "print(classification_report(y_test, y_pred_default))\n",
    "\n",
    "# Train a Gaussian Naïve Bayes classifier with custom priors\n",
    "class_priors = [0.2, 0.5, 0.3]  # Example of custom prior probabilities for the classes\n",
    "gnb_custom = GaussianNB(priors=class_priors)\n",
    "gnb_custom.fit(X_train, y_train)\n",
    "y_pred_custom = gnb_custom.predict(X_test)\n",
    "\n",
    "# Evaluate the classifier's performance with custom priors\n",
    "accuracy_custom = accuracy_score(y_test, y_pred_custom)\n",
    "print(f'\\nAccuracy with custom priors: {accuracy_custom:.2f}')\n",
    "print(\"Classification Report with custom priors:\")\n",
    "print(classification_report(y_test, y_pred_custom))\n"
   ]
  },
  {
   "cell_type": "code",
   "execution_count": 59,
   "id": "94647ed6-7f7f-4da7-8990-c3c84974cc53",
   "metadata": {},
   "outputs": [],
   "source": [
    "#Q40 Write a Python program to perform Recursive Feature Elimination (RFE) before training an SVM Classifier and compare accuracy"
   ]
  },
  {
   "cell_type": "code",
   "execution_count": 60,
   "id": "9fffc91b-e192-4c87-9122-8c64fe331a35",
   "metadata": {},
   "outputs": [
    {
     "name": "stdout",
     "output_type": "stream",
     "text": [
      "Accuracy without RFE: 1.00\n",
      "Accuracy with RFE: 1.00\n"
     ]
    }
   ],
   "source": [
    "import numpy as np\n",
    "from sklearn import datasets\n",
    "from sklearn.model_selection import train_test_split\n",
    "from sklearn.svm import SVC\n",
    "from sklearn.feature_selection import RFE\n",
    "from sklearn.metrics import accuracy_score\n",
    "\n",
    "# Load the Iris dataset\n",
    "iris = datasets.load_iris()\n",
    "X = iris.data\n",
    "y = iris.target\n",
    "\n",
    "# Split the dataset into training and testing sets\n",
    "X_train, X_test, y_train, y_test = train_test_split(X, y, test_size=0.3, random_state=42)\n",
    "\n",
    "# Train an SVM classifier without RFE\n",
    "svm = SVC(kernel='linear', random_state=42)\n",
    "svm.fit(X_train, y_train)\n",
    "y_pred_no_rfe = svm.predict(X_test)\n",
    "\n",
    "# Evaluate the classifier's performance without RFE\n",
    "accuracy_no_rfe = accuracy_score(y_test, y_pred_no_rfe)\n",
    "print(f'Accuracy without RFE: {accuracy_no_rfe:.2f}')\n",
    "\n",
    "# Perform Recursive Feature Elimination (RFE) with the SVM classifier\n",
    "rfe = RFE(estimator=svm, n_features_to_select=2, step=1)\n",
    "rfe.fit(X_train, y_train)\n",
    "\n",
    "# Train an SVM classifier with RFE\n",
    "svm_rfe = SVC(kernel='linear', random_state=42)\n",
    "svm_rfe.fit(rfe.transform(X_train), y_train)\n",
    "y_pred_rfe = svm_rfe.predict(rfe.transform(X_test))\n",
    "\n",
    "# Evaluate the classifier's performance with RFE\n",
    "accuracy_rfe = accuracy_score(y_test, y_pred_rfe)\n",
    "print(f'Accuracy with RFE: {accuracy_rfe:.2f}')\n"
   ]
  },
  {
   "cell_type": "code",
   "execution_count": 61,
   "id": "5378a8b4-f503-4064-bbde-07bbfb347b38",
   "metadata": {},
   "outputs": [],
   "source": [
    "#Q41  Write a Python program to train an SVM Classifier and evaluate its performance using Precision, Recall, and F1-Score instead of accuracy"
   ]
  },
  {
   "cell_type": "code",
   "execution_count": 62,
   "id": "25cf4b89-9c14-494a-bc59-4f94c35b5d43",
   "metadata": {},
   "outputs": [
    {
     "name": "stdout",
     "output_type": "stream",
     "text": [
      "Precision: 1.00\n",
      "Recall: 1.00\n",
      "F1-Score: 1.00\n",
      "Classification Report:\n",
      "              precision    recall  f1-score   support\n",
      "\n",
      "           0       1.00      1.00      1.00        19\n",
      "           1       1.00      1.00      1.00        13\n",
      "           2       1.00      1.00      1.00        13\n",
      "\n",
      "    accuracy                           1.00        45\n",
      "   macro avg       1.00      1.00      1.00        45\n",
      "weighted avg       1.00      1.00      1.00        45\n",
      "\n"
     ]
    }
   ],
   "source": [
    "import numpy as np\n",
    "from sklearn import datasets\n",
    "from sklearn.model_selection import train_test_split\n",
    "from sklearn.svm import SVC\n",
    "from sklearn.metrics import precision_score, recall_score, f1_score, classification_report\n",
    "\n",
    "# Load the Iris dataset\n",
    "iris = datasets.load_iris()\n",
    "X = iris.data\n",
    "y = iris.target\n",
    "\n",
    "# Split the dataset into training and testing sets\n",
    "X_train, X_test, y_train, y_test = train_test_split(X, y, test_size=0.3, random_state=42)\n",
    "\n",
    "# Train an SVM classifier\n",
    "svm = SVC(kernel='linear', random_state=42)\n",
    "svm.fit(X_train, y_train)\n",
    "y_pred = svm.predict(X_test)\n",
    "\n",
    "# Evaluate the classifier's performance using Precision, Recall, and F1-Score\n",
    "precision = precision_score(y_test, y_pred, average='weighted')\n",
    "recall = recall_score(y_test, y_pred, average='weighted')\n",
    "f1 = f1_score(y_test, y_pred, average='weighted')\n",
    "\n",
    "print(f'Precision: {precision:.2f}')\n",
    "print(f'Recall: {recall:.2f}')\n",
    "print(f'F1-Score: {f1:.2f}')\n",
    "\n",
    "# Print a detailed classification report\n",
    "print(\"Classification Report:\")\n",
    "print(classification_report(y_test, y_pred))\n"
   ]
  },
  {
   "cell_type": "code",
   "execution_count": 63,
   "id": "fa7d365c-5705-46fe-b2fd-45ba8270ae0d",
   "metadata": {},
   "outputs": [],
   "source": [
    "#Q42  Write a Python program to train a Naïve Bayes Classifier and evaluate its performance using Log Loss (Cross-Entropy Loss)"
   ]
  },
  {
   "cell_type": "code",
   "execution_count": 64,
   "id": "2ffbaac1-4121-4bb5-83d3-2be5de2a540c",
   "metadata": {},
   "outputs": [
    {
     "name": "stdout",
     "output_type": "stream",
     "text": [
      "Log Loss: 0.05\n",
      "Classification Report:\n",
      "              precision    recall  f1-score   support\n",
      "\n",
      "           0       1.00      1.00      1.00        19\n",
      "           1       1.00      0.92      0.96        13\n",
      "           2       0.93      1.00      0.96        13\n",
      "\n",
      "    accuracy                           0.98        45\n",
      "   macro avg       0.98      0.97      0.97        45\n",
      "weighted avg       0.98      0.98      0.98        45\n",
      "\n"
     ]
    }
   ],
   "source": [
    "import numpy as np\n",
    "from sklearn import datasets\n",
    "from sklearn.model_selection import train_test_split\n",
    "from sklearn.naive_bayes import GaussianNB\n",
    "from sklearn.metrics import log_loss, classification_report\n",
    "\n",
    "# Load the Iris dataset\n",
    "iris = datasets.load_iris()\n",
    "X = iris.data\n",
    "y = iris.target\n",
    "\n",
    "# Split the dataset into training and testing sets\n",
    "X_train, X_test, y_train, y_test = train_test_split(X, y, test_size=0.3, random_state=42)\n",
    "\n",
    "# Train a Gaussian Naïve Bayes classifier\n",
    "gnb = GaussianNB()\n",
    "gnb.fit(X_train, y_train)\n",
    "y_pred = gnb.predict(X_test)\n",
    "y_pred_proba = gnb.predict_proba(X_test)\n",
    "\n",
    "# Evaluate the classifier's performance using Log Loss\n",
    "log_loss_value = log_loss(y_test, y_pred_proba)\n",
    "print(f'Log Loss: {log_loss_value:.2f}')\n",
    "\n",
    "# Print a detailed classification report\n",
    "print(\"Classification Report:\")\n",
    "print(classification_report(y_test, y_pred))\n"
   ]
  },
  {
   "cell_type": "code",
   "execution_count": 65,
   "id": "013b2447-36e7-4fe7-8dc8-8a03c96f7e07",
   "metadata": {},
   "outputs": [],
   "source": [
    "#Q43  Write a Python program to train an SVM Classifier and visualize the Confusion Matrix using seaborn"
   ]
  },
  {
   "cell_type": "code",
   "execution_count": 66,
   "id": "6e4b4b68-dd8e-4458-99d2-fd883f95f8d9",
   "metadata": {},
   "outputs": [
    {
     "data": {
      "image/png": "[encoded data removed]",
      "text/plain": [
       "<Figure size 1000x700 with 2 Axes>"
      ]
     },
     "metadata": {},
     "output_type": "display_data"
    }
   ],
   "source": [
    "import numpy as np\n",
    "import pandas as pd\n",
    "from sklearn import datasets\n",
    "from sklearn.model_selection import train_test_split\n",
    "from sklearn.svm import SVC\n",
    "from sklearn.metrics import confusion_matrix\n",
    "import seaborn as sns\n",
    "import matplotlib.pyplot as plt\n",
    "\n",
    "# Load the Iris dataset\n",
    "iris = datasets.load_iris()\n",
    "X = iris.data\n",
    "y = iris.target\n",
    "\n",
    "# Split the dataset into training and testing sets\n",
    "X_train, X_test, y_train, y_test = train_test_split(X, y, test_size=0.3, random_state=42)\n",
    "\n",
    "# Train an SVM classifier\n",
    "svm = SVC(kernel='linear', random_state=42)\n",
    "svm.fit(X_train, y_train)\n",
    "y_pred = svm.predict(X_test)\n",
    "\n",
    "# Compute the Confusion Matrix\n",
    "cm = confusion_matrix(y_test, y_pred)\n",
    "\n",
    "# Visualize the Confusion Matrix using seaborn\n",
    "plt.figure(figsize=(10, 7))\n",
    "sns.heatmap(cm, annot=True, fmt='d', cmap='Blues', xticklabels=iris.target_names, yticklabels=iris.target_names)\n",
    "plt.xlabel('Predicted')\n",
    "plt.ylabel('Actual')\n",
    "plt.title('Confusion Matrix')\n",
    "plt.show()\n"
   ]
  },
  {
   "cell_type": "code",
   "execution_count": 67,
   "id": "95b07530-ad5a-47c3-8a36-d4bbce3b4719",
   "metadata": {},
   "outputs": [],
   "source": [
    "#Q44 Write a Python program to train an SVM Regressor (SVR) and evaluate its performance using Mean Absolute Error (MAE) instead of MSE"
   ]
  },
  {
   "cell_type": "code",
   "execution_count": 68,
   "id": "78b8247f-5cf0-42d5-a860-ba8a7228a9ff",
   "metadata": {},
   "outputs": [
    {
     "name": "stdout",
     "output_type": "stream",
     "text": [
      "Mean Absolute Error (MAE): 0.70\n"
     ]
    }
   ],
   "source": [
    "import numpy as np\n",
    "from sklearn import datasets\n",
    "from sklearn.model_selection import train_test_split\n",
    "from sklearn.svm import SVR\n",
    "from sklearn.metrics import mean_absolute_error\n",
    "\n",
    "# Load the California housing dataset\n",
    "california = datasets.fetch_california_housing()\n",
    "X = california.data\n",
    "y = california.target\n",
    "\n",
    "# Split the dataset into training and testing sets\n",
    "X_train, X_test, y_train, y_test = train_test_split(X, y, test_size=0.3, random_state=42)\n",
    "\n",
    "# Train an SVM Regressor (SVR)\n",
    "svr = SVR(kernel='linear', C=1.0)\n",
    "svr.fit(X_train, y_train)\n",
    "y_pred = svr.predict(X_test)\n",
    "\n",
    "# Evaluate the regressor's performance using Mean Absolute Error (MAE)\n",
    "mae = mean_absolute_error(y_test, y_pred)\n",
    "print(f'Mean Absolute Error (MAE): {mae:.2f}')\n"
   ]
  },
  {
   "cell_type": "code",
   "execution_count": 69,
   "id": "044c38ad-0494-4b46-9208-bb37c7ef62e2",
   "metadata": {},
   "outputs": [],
   "source": [
    "#Q45 Write a Python program to train a Naïve Bayes classifier and evaluate its performance using the ROC-AUC score"
   ]
  },
  {
   "cell_type": "code",
   "execution_count": 70,
   "id": "bbdb1358-035b-4370-ad44-bc38d616fb1e",
   "metadata": {},
   "outputs": [
    {
     "name": "stdout",
     "output_type": "stream",
     "text": [
      "ROC-AUC Score: 0.99\n"
     ]
    },
    {
     "data": {
      "image/png": "[encoded data removed]",
      "text/plain": [
       "<Figure size 640x480 with 1 Axes>"
      ]
     },
     "metadata": {},
     "output_type": "display_data"
    }
   ],
   "source": [
    "import numpy as np\n",
    "from sklearn import datasets\n",
    "from sklearn.model_selection import train_test_split\n",
    "from sklearn.naive_bayes import GaussianNB\n",
    "from sklearn.metrics import roc_auc_score, roc_curve, auc\n",
    "import matplotlib.pyplot as plt\n",
    "\n",
    "# Load the Breast Cancer dataset\n",
    "cancer = datasets.load_breast_cancer()\n",
    "X = cancer.data\n",
    "y = cancer.target\n",
    "\n",
    "# Split the dataset into training and testing sets\n",
    "X_train, X_test, y_train, y_test = train_test_split(X, y, test_size=0.3, random_state=42)\n",
    "\n",
    "# Train a Gaussian Naïve Bayes classifier\n",
    "gnb = GaussianNB()\n",
    "gnb.fit(X_train, y_train)\n",
    "y_pred_proba = gnb.predict_proba(X_test)[:, 1]\n",
    "\n",
    "# Evaluate the classifier's performance using ROC-AUC score\n",
    "roc_auc = roc_auc_score(y_test, y_pred_proba)\n",
    "print(f'ROC-AUC Score: {roc_auc:.2f}')\n",
    "\n",
    "# Compute ROC curve and ROC area\n",
    "fpr, tpr, thresholds = roc_curve(y_test, y_pred_proba)\n",
    "roc_auc = auc(fpr, tpr)\n",
    "\n",
    "# Plot ROC curve\n",
    "plt.figure()\n",
    "plt.plot(fpr, tpr, color='darkorange', lw=2, label=f'ROC curve (area = {roc_auc:.2f})')\n",
    "plt.plot([0, 1], [0, 1], color='navy', lw=2, linestyle='--')\n",
    "plt.xlim([0.0, 1.0])\n",
    "plt.ylim([0.0, 1.05])\n",
    "plt.xlabel('False Positive Rate')\n",
    "plt.ylabel('True Positive Rate')\n",
    "plt.title('Receiver Operating Characteristic (ROC) Curve')\n",
    "plt.legend(loc='lower right')\n",
    "plt.show()\n"
   ]
  },
  {
   "cell_type": "code",
   "execution_count": 71,
   "id": "b7036b21-aa15-4456-b246-334d44cc36cf",
   "metadata": {},
   "outputs": [],
   "source": [
    "#Q46  Write a Python program to train an SVM Classifier and visualize the Precision-Recall Curve"
   ]
  },
  {
   "cell_type": "code",
   "execution_count": 72,
   "id": "c1fc9dad-0337-4385-9341-018f7e527b58",
   "metadata": {},
   "outputs": [
    {
     "name": "stdout",
     "output_type": "stream",
     "text": [
      "Classification Report:\n",
      "              precision    recall  f1-score   support\n",
      "\n",
      "           0       0.97      0.94      0.95        63\n",
      "           1       0.96      0.98      0.97       108\n",
      "\n",
      "    accuracy                           0.96       171\n",
      "   macro avg       0.97      0.96      0.96       171\n",
      "weighted avg       0.96      0.96      0.96       171\n",
      "\n"
     ]
    },
    {
     "data": {
      "image/png": "[encoded data removed]",
      "text/plain": [
       "<Figure size 640x480 with 1 Axes>"
      ]
     },
     "metadata": {},
     "output_type": "display_data"
    }
   ],
   "source": [
    "import numpy as np\n",
    "from sklearn import datasets\n",
    "from sklearn.model_selection import train_test_split\n",
    "from sklearn.svm import SVC\n",
    "from sklearn.metrics import precision_recall_curve, auc, classification_report\n",
    "import matplotlib.pyplot as plt\n",
    "\n",
    "# Load the Breast Cancer dataset\n",
    "cancer = datasets.load_breast_cancer()\n",
    "X = cancer.data\n",
    "y = cancer.target\n",
    "\n",
    "# Split the dataset into training and testing sets\n",
    "X_train, X_test, y_train, y_test = train_test_split(X, y, test_size=0.3, random_state=42)\n",
    "\n",
    "# Train an SVM classifier\n",
    "svm = SVC(kernel='linear', probability=True, random_state=42)\n",
    "svm.fit(X_train, y_train)\n",
    "y_pred = svm.predict(X_test)\n",
    "y_pred_proba = svm.predict_proba(X_test)[:, 1]\n",
    "\n",
    "# Evaluate the classifier's performance using the classification report\n",
    "print(\"Classification Report:\")\n",
    "print(classification_report(y_test, y_pred))\n",
    "\n",
    "# Compute Precision-Recall curve and AUC\n",
    "precision, recall, thresholds = precision_recall_curve(y_test, y_pred_proba)\n",
    "pr_auc = auc(recall, precision)\n",
    "\n",
    "# Plot Precision-Recall curve\n",
    "plt.figure()\n",
    "plt.plot(recall, precision, color='b', lw=2, label=f'Precision-Recall curve (area = {pr_auc:.2f})')\n",
    "plt.xlabel('Recall')\n",
    "plt.ylabel('Precision')\n",
    "plt.title('Precision-Recall Curve')\n",
    "plt.legend(loc='lower left')\n",
    "plt.show()\n"
   ]
  },
  {
   "cell_type": "code",
   "execution_count": null,
   "id": "b3c60a72-025e-4448-b2e3-9e1e268a5164",
   "metadata": {},
   "outputs": [],
   "source": []
  }
 ],
 "metadata": {
  "kernelspec": {
   "display_name": "Python 3 (ipykernel)",
   "language": "python",
   "name": "python3"
  },
  "language_info": {
   "codemirror_mode": {
    "name": "ipython",
    "version": 3
   },
   "file_extension": ".py",
   "mimetype": "text/x-python",
   "name": "python",
   "nbconvert_exporter": "python",
   "pygments_lexer": "ipython3",
   "version": "3.12.5"
  }
 },
 "nbformat": 4,
 "nbformat_minor": 5
}
